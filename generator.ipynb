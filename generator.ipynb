{
 "cells": [
  {
   "cell_type": "code",
   "execution_count": 2,
   "metadata": {},
   "outputs": [],
   "source": [
    "import re\n",
    "from sys import prefix\n",
    "import pandas as pd\n",
    "import random\n",
    "import os\n",
    "import shutil\n",
    "from tqdm.notebook import tqdm\n",
    "import matplotlib.pyplot as plt\n",
    "\n",
    "\n",
    "class sudoku:\n",
    "    def __init__(self, init=False, path='benchmarks/INST_36x36', solver='ACS', execl='results/charts/base.xlsx'):\n",
    "        self.path = path\n",
    "        self.opt_path = path + '/100'\n",
    "        self.solver = solver\n",
    "        self.data_path = 'results/' + solver\n",
    "        # self.records = pd.read_excel(execl, header=[0], index_col = [0])\n",
    "        if init:\n",
    "            self.records = self.records.drop(index=self.records.index)\n",
    "            self.get_info(path)\n",
    "            \n",
    "    def get_benchmarks(self, percentage=0):\n",
    "        file_list = os.listdir(self.opt_path)\n",
    "        target_path = self.path + '/' + str(percentage)\n",
    "        if not os.path.exists(target_path):\n",
    "            os.makedirs(target_path)\n",
    "        for file in tqdm(file_list, target_path):\n",
    "            path = os.path.join(self.opt_path, file)\n",
    "            with open(path) as f:\n",
    "                grid = []\n",
    "                order = f.readline()[:-1]\n",
    "                is_sat = f.readline()\n",
    "                square = int(order)*int(order)\n",
    "                for i in range(square):\n",
    "                    grid.append(f.readline().split())\n",
    "                index = 0\n",
    "                total = (100-percentage)*square*square/100\n",
    "                while index < total:\n",
    "                    x = random.randint(0, square-1)\n",
    "                    y = random.randint(0, square-1)\n",
    "                    if grid[x][y] != '-1':\n",
    "                        grid[x][y] = '-1'\n",
    "                        index += 1\n",
    "                filename = file.split('_')\n",
    "                filename[1] = str(percentage)\n",
    "                filename = '_'.join(filename)\n",
    "                with open(target_path + '/' + filename, 'w') as out:\n",
    "                    out.write(order + '\\n')\n",
    "                    out.write(is_sat)\n",
    "                    for i in range(square):\n",
    "                        line = ''\n",
    "                        for j in range(square):\n",
    "                            line = line + grid[i][j] + '\\t'\n",
    "                        out.write(line[:-1] + '\\n')\n",
    "\n",
    "    def get_info(self, path):\n",
    "        folder_list = os.listdir(path)\n",
    "        for folder in folder_list:\n",
    "            new_path = os.path.join(path, folder)\n",
    "            if os.path.isdir(new_path):\n",
    "                self.get_info(new_path)\n",
    "            else:\n",
    "                filename = new_path.split('/')[-1]\n",
    "                category = filename.split['_'][1]\n",
    "                self.records.loc[len(self.records.index)] = [filename, category]\n",
    "        \n",
    "    def save_to(self, filename):\n",
    "        self.records.to_excel(filename)\n",
    "        \n",
    "    def arrange(self):\n",
    "        # for filename in tqdm(folder_list, desc=folder_path):\n",
    "        file_list = os.listdir(self.data_path)\n",
    "        for file in tqdm(file_list, desc=self.data_path):\n",
    "            path = os.path.join(self.data_path, file)\n",
    "            with open(path) as f:\n",
    "                try:\n",
    "                    if self.solver == 'ACS':\n",
    "                        while f.readline():\n",
    "                            result = f.readline()[:-1]\n",
    "                            if result == '0':\n",
    "                                result = 'sat'\n",
    "                            elif result == '1':\n",
    "                                result = 'timeout'\n",
    "                            f.readline()\n",
    "                            info = f.readline()\n",
    "                            time = info.split(' : ')[-1][:-5]\n",
    "                            name = info.split(' : ')[0].split('/')[-1]\n",
    "                            # print(name)\n",
    "                            self.records.loc[self.records['filename'] == name, ['result_' + self.solver, 'time_' + self.solver]] = [result, int(time)]\n",
    "                    elif self.solver == 'SAT':\n",
    "                        while f.readline():\n",
    "                            result = 'error'\n",
    "                            info = f.readline()\n",
    "                            while info[:6] != 'c proc':\n",
    "                                info = f.readline()\n",
    "                            status = f.readline()\n",
    "                            if len(status) >= 10:\n",
    "                                result = 'timeout'\n",
    "                            elif len(status) <= 2:\n",
    "                                result = 'sat'\n",
    "                            # times = float(re.split('[sm]', info)[-3])\n",
    "                            info = f.readline()\n",
    "                            while(info and info[:3] != '../'):\n",
    "                                info = f.readline()\n",
    "                            time = info.split(' : ')[-1][:-5]\n",
    "                            name = info.split(' : ')[0].split('/')[-1].split('.')[0] + '.txt'\n",
    "                            # print(name)\n",
    "                            self.records.loc[self.records['filename'] == name, ['result_' + self.solver, 'time_' + self.solver]] = [result, time]\n",
    "                except:\n",
    "                    print(path)\n",
    "    "
   ]
  },
  {
   "cell_type": "code",
   "execution_count": 3,
   "metadata": {},
   "outputs": [
    {
     "data": {
      "application/vnd.jupyter.widget-view+json": {
       "model_id": "470fa92c5411462385d016266eb332a4",
       "version_major": 2,
       "version_minor": 0
      },
      "text/plain": [
       "benchmarks/INST_36x36/100:   0%|          | 0/100 [00:00<?, ?it/s]"
      ]
     },
     "metadata": {},
     "output_type": "display_data"
    },
    {
     "data": {
      "application/vnd.jupyter.widget-view+json": {
       "model_id": "34bbf9e8d74340cbbec523aceee2e33b",
       "version_major": 2,
       "version_minor": 0
      },
      "text/plain": [
       "benchmarks/INST_36x36/100:   0%|          | 0/100 [00:00<?, ?it/s]"
      ]
     },
     "metadata": {},
     "output_type": "display_data"
    },
    {
     "data": {
      "application/vnd.jupyter.widget-view+json": {
       "model_id": "bbeb6ffb21ac4af58ba22f7861f30189",
       "version_major": 2,
       "version_minor": 0
      },
      "text/plain": [
       "benchmarks/INST_36x36/100:   0%|          | 0/100 [00:00<?, ?it/s]"
      ]
     },
     "metadata": {},
     "output_type": "display_data"
    },
    {
     "data": {
      "application/vnd.jupyter.widget-view+json": {
       "model_id": "91e0a9c313204f24993de082d69e1148",
       "version_major": 2,
       "version_minor": 0
      },
      "text/plain": [
       "benchmarks/INST_36x36/100:   0%|          | 0/100 [00:00<?, ?it/s]"
      ]
     },
     "metadata": {},
     "output_type": "display_data"
    },
    {
     "data": {
      "application/vnd.jupyter.widget-view+json": {
       "model_id": "df2fe9aed66d42b6b00811d30cba1a84",
       "version_major": 2,
       "version_minor": 0
      },
      "text/plain": [
       "benchmarks/INST_36x36/100:   0%|          | 0/100 [00:00<?, ?it/s]"
      ]
     },
     "metadata": {},
     "output_type": "display_data"
    },
    {
     "data": {
      "application/vnd.jupyter.widget-view+json": {
       "model_id": "147a17014a67486da7f49ecd4899f979",
       "version_major": 2,
       "version_minor": 0
      },
      "text/plain": [
       "benchmarks/INST_36x36/100:   0%|          | 0/100 [00:00<?, ?it/s]"
      ]
     },
     "metadata": {},
     "output_type": "display_data"
    },
    {
     "data": {
      "application/vnd.jupyter.widget-view+json": {
       "model_id": "342263bc1a5c4bd59bcc1fe85ac3208c",
       "version_major": 2,
       "version_minor": 0
      },
      "text/plain": [
       "benchmarks/INST_36x36/100:   0%|          | 0/100 [00:00<?, ?it/s]"
      ]
     },
     "metadata": {},
     "output_type": "display_data"
    },
    {
     "data": {
      "application/vnd.jupyter.widget-view+json": {
       "model_id": "b1d08b504c9b4e22a4988ec5956c8734",
       "version_major": 2,
       "version_minor": 0
      },
      "text/plain": [
       "benchmarks/INST_36x36/100:   0%|          | 0/100 [00:00<?, ?it/s]"
      ]
     },
     "metadata": {},
     "output_type": "display_data"
    },
    {
     "data": {
      "application/vnd.jupyter.widget-view+json": {
       "model_id": "365c888150434e6e8c9e49180f99daf7",
       "version_major": 2,
       "version_minor": 0
      },
      "text/plain": [
       "benchmarks/INST_36x36/100:   0%|          | 0/100 [00:00<?, ?it/s]"
      ]
     },
     "metadata": {},
     "output_type": "display_data"
    },
    {
     "data": {
      "application/vnd.jupyter.widget-view+json": {
       "model_id": "4bfecc4c775e4c34821a47acc9b33718",
       "version_major": 2,
       "version_minor": 0
      },
      "text/plain": [
       "benchmarks/INST_36x36/100:   0%|          | 0/100 [00:00<?, ?it/s]"
      ]
     },
     "metadata": {},
     "output_type": "display_data"
    },
    {
     "data": {
      "application/vnd.jupyter.widget-view+json": {
       "model_id": "ea9bd24928a54c4e8dbcfb4b9cfa4485",
       "version_major": 2,
       "version_minor": 0
      },
      "text/plain": [
       "benchmarks/INST_36x36/100:   0%|          | 0/100 [00:00<?, ?it/s]"
      ]
     },
     "metadata": {},
     "output_type": "display_data"
    },
    {
     "data": {
      "application/vnd.jupyter.widget-view+json": {
       "model_id": "e673883b92414453b96c78daaf7d3f78",
       "version_major": 2,
       "version_minor": 0
      },
      "text/plain": [
       "benchmarks/INST_36x36/100:   0%|          | 0/100 [00:00<?, ?it/s]"
      ]
     },
     "metadata": {},
     "output_type": "display_data"
    },
    {
     "data": {
      "application/vnd.jupyter.widget-view+json": {
       "model_id": "8ad5381d69d946519da6bd9341482722",
       "version_major": 2,
       "version_minor": 0
      },
      "text/plain": [
       "benchmarks/INST_36x36/100:   0%|          | 0/100 [00:00<?, ?it/s]"
      ]
     },
     "metadata": {},
     "output_type": "display_data"
    },
    {
     "data": {
      "application/vnd.jupyter.widget-view+json": {
       "model_id": "17b91001b0d14788be7e5d2a15558073",
       "version_major": 2,
       "version_minor": 0
      },
      "text/plain": [
       "benchmarks/INST_36x36/100:   0%|          | 0/100 [00:00<?, ?it/s]"
      ]
     },
     "metadata": {},
     "output_type": "display_data"
    },
    {
     "data": {
      "application/vnd.jupyter.widget-view+json": {
       "model_id": "23cd99d0c99e4a25bf176b07fe32da09",
       "version_major": 2,
       "version_minor": 0
      },
      "text/plain": [
       "benchmarks/INST_36x36/100:   0%|          | 0/100 [00:00<?, ?it/s]"
      ]
     },
     "metadata": {},
     "output_type": "display_data"
    },
    {
     "data": {
      "application/vnd.jupyter.widget-view+json": {
       "model_id": "133660d7a4974d709f3e40eac055a61a",
       "version_major": 2,
       "version_minor": 0
      },
      "text/plain": [
       "benchmarks/INST_36x36/100:   0%|          | 0/100 [00:00<?, ?it/s]"
      ]
     },
     "metadata": {},
     "output_type": "display_data"
    },
    {
     "data": {
      "application/vnd.jupyter.widget-view+json": {
       "model_id": "9b68a0e6b89240b98290f1c33dce051d",
       "version_major": 2,
       "version_minor": 0
      },
      "text/plain": [
       "benchmarks/INST_36x36/100:   0%|          | 0/100 [00:00<?, ?it/s]"
      ]
     },
     "metadata": {},
     "output_type": "display_data"
    },
    {
     "data": {
      "application/vnd.jupyter.widget-view+json": {
       "model_id": "12b7902148e04022bb94635386e8809e",
       "version_major": 2,
       "version_minor": 0
      },
      "text/plain": [
       "benchmarks/INST_36x36/100:   0%|          | 0/100 [00:00<?, ?it/s]"
      ]
     },
     "metadata": {},
     "output_type": "display_data"
    },
    {
     "data": {
      "application/vnd.jupyter.widget-view+json": {
       "model_id": "d355a302b7d24e63806bb56bdc6ebd6f",
       "version_major": 2,
       "version_minor": 0
      },
      "text/plain": [
       "benchmarks/INST_36x36/100:   0%|          | 0/100 [00:00<?, ?it/s]"
      ]
     },
     "metadata": {},
     "output_type": "display_data"
    },
    {
     "data": {
      "application/vnd.jupyter.widget-view+json": {
       "model_id": "2a03470942ea42c68fefa1ff56a21a76",
       "version_major": 2,
       "version_minor": 0
      },
      "text/plain": [
       "benchmarks/INST_36x36/100:   0%|          | 0/100 [00:00<?, ?it/s]"
      ]
     },
     "metadata": {},
     "output_type": "display_data"
    }
   ],
   "source": [
    "a = sudoku()\n",
    "for i in range(0, 100, 5):\n",
    "    a.get_benchmarks(percentage=i)"
   ]
  }
 ],
 "metadata": {
  "kernelspec": {
   "display_name": "Python 3.9.12 ('base')",
   "language": "python",
   "name": "python3"
  },
  "language_info": {
   "codemirror_mode": {
    "name": "ipython",
    "version": 3
   },
   "file_extension": ".py",
   "mimetype": "text/x-python",
   "name": "python",
   "nbconvert_exporter": "python",
   "pygments_lexer": "ipython3",
   "version": "3.9.12"
  },
  "orig_nbformat": 4,
  "vscode": {
   "interpreter": {
    "hash": "b92a0254a30c2afbf0cf228538e1698f068dfe9bb515fbf9837b53b2177d9016"
   }
  }
 },
 "nbformat": 4,
 "nbformat_minor": 2
}
