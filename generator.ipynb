{
 "cells": [
  {
   "cell_type": "code",
   "execution_count": 5,
   "metadata": {},
   "outputs": [],
   "source": [
    "import re\n",
    "from sys import prefix\n",
    "import pandas as pd\n",
    "import random\n",
    "import os\n",
    "import shutil\n",
    "from tqdm.notebook import tqdm\n",
    "import matplotlib.pyplot as plt\n",
    "\n",
    "\n",
    "class sudoku:\n",
    "    def __init__(self, init=False, path='benchmarks/INST_36x36', solver='ACS', execl='results/charts/base.xlsx'):\n",
    "        self.path = path\n",
    "        self.opt_path = path + '/100'\n",
    "        self.solver = solver\n",
    "        self.data_path = 'results/' + solver\n",
    "        # self.records = pd.read_excel(execl, header=[0], index_col = [0])\n",
    "        if init:\n",
    "            self.records = self.records.drop(index=self.records.index)\n",
    "            self.get_info(path)\n",
    "            \n",
    "    def get_benchmarks(self, percentage=0):\n",
    "        file_list = os.listdir(self.opt_path)\n",
    "        target_path = self.path + '/' + str(percentage)\n",
    "        if not os.path.exists(target_path):\n",
    "            os.makedirs(target_path)\n",
    "        for file in tqdm(file_list, target_path):\n",
    "            path = os.path.join(self.opt_path, file)\n",
    "            with open(path) as f:\n",
    "                grid = []\n",
    "                order = f.readline()[:-1]\n",
    "                is_sat = f.readline()\n",
    "                square = int(order)*int(order)\n",
    "                for i in range(square):\n",
    "                    grid.append(f.readline().split())\n",
    "                index = 0\n",
    "                total = (100-percentage)*square*square/100\n",
    "                while index < total:\n",
    "                    x = random.randint(0, square-1)\n",
    "                    y = random.randint(0, square-1)\n",
    "                    if grid[x][y] != '-1':\n",
    "                        grid[x][y] = '-1'\n",
    "                        index += 1\n",
    "                filename = file.split('_')\n",
    "                filename[1] = str(percentage)\n",
    "                filename = '_'.join(filename)\n",
    "                with open(target_path + '/' + filename, 'w') as out:\n",
    "                    out.write(order + '\\n')\n",
    "                    out.write(is_sat)\n",
    "                    for i in range(square):\n",
    "                        line = ''\n",
    "                        for j in range(square):\n",
    "                            line = line + grid[i][j] + '\\t'\n",
    "                        out.write(line[:-1] + '\\n')\n",
    "\n",
    "    def get_info(self, path):\n",
    "        folder_list = os.listdir(path)\n",
    "        for folder in folder_list:\n",
    "            new_path = os.path.join(path, folder)\n",
    "            if os.path.isdir(new_path):\n",
    "                self.get_info(new_path)\n",
    "            else:\n",
    "                filename = new_path.split('/')[-1]\n",
    "                category = filename.split['_'][1]\n",
    "                self.records.loc[len(self.records.index)] = [filename, category]\n",
    "        \n",
    "    def save_to(self, filename):\n",
    "        self.records.to_excel(filename)\n",
    "        \n",
    "    def arrange(self):\n",
    "        # for filename in tqdm(folder_list, desc=folder_path):\n",
    "        file_list = os.listdir(self.data_path)\n",
    "        for file in tqdm(file_list, desc=self.data_path):\n",
    "            path = os.path.join(self.data_path, file)\n",
    "            with open(path) as f:\n",
    "                try:\n",
    "                    if self.solver == 'ACS':\n",
    "                        while f.readline():\n",
    "                            result = f.readline()[:-1]\n",
    "                            if result == '0':\n",
    "                                result = 'sat'\n",
    "                            elif result == '1':\n",
    "                                result = 'timeout'\n",
    "                            f.readline()\n",
    "                            info = f.readline()\n",
    "                            time = info.split(' : ')[-1][:-5]\n",
    "                            name = info.split(' : ')[0].split('/')[-1]\n",
    "                            # print(name)\n",
    "                            self.records.loc[self.records['filename'] == name, ['result_' + self.solver, 'time_' + self.solver]] = [result, int(time)]\n",
    "                    elif self.solver == 'SAT':\n",
    "                        while f.readline():\n",
    "                            result = 'error'\n",
    "                            info = f.readline()\n",
    "                            while info[:6] != 'c proc':\n",
    "                                info = f.readline()\n",
    "                            status = f.readline()\n",
    "                            if len(status) >= 10:\n",
    "                                result = 'timeout'\n",
    "                            elif len(status) <= 2:\n",
    "                                result = 'sat'\n",
    "                            # times = float(re.split('[sm]', info)[-3])\n",
    "                            info = f.readline()\n",
    "                            while(info and info[:3] != '../'):\n",
    "                                info = f.readline()\n",
    "                            time = info.split(' : ')[-1][:-5]\n",
    "                            name = info.split(' : ')[0].split('/')[-1].split('.')[0] + '.txt'\n",
    "                            # print(name)\n",
    "                            self.records.loc[self.records['filename'] == name, ['result_' + self.solver, 'time_' + self.solver]] = [result, time]\n",
    "                except:\n",
    "                    print(path)\n",
    "    "
   ]
  },
  {
   "cell_type": "code",
   "execution_count": 6,
   "metadata": {},
   "outputs": [
    {
     "data": {
      "application/vnd.jupyter.widget-view+json": {
       "model_id": "43f71d5329f34c27b51242674107b98f",
       "version_major": 2,
       "version_minor": 0
      },
      "text/plain": [
       "benchmarks/INST_36x36/0:   0%|          | 0/100 [00:00<?, ?it/s]"
      ]
     },
     "metadata": {},
     "output_type": "display_data"
    },
    {
     "data": {
      "application/vnd.jupyter.widget-view+json": {
       "model_id": "0bb7323300284b08a73bc9d7d1b77858",
       "version_major": 2,
       "version_minor": 0
      },
      "text/plain": [
       "benchmarks/INST_36x36/5:   0%|          | 0/100 [00:00<?, ?it/s]"
      ]
     },
     "metadata": {},
     "output_type": "display_data"
    },
    {
     "data": {
      "application/vnd.jupyter.widget-view+json": {
       "model_id": "afc9b8f5941c45cf9b3356dd40ca5f50",
       "version_major": 2,
       "version_minor": 0
      },
      "text/plain": [
       "benchmarks/INST_36x36/10:   0%|          | 0/100 [00:00<?, ?it/s]"
      ]
     },
     "metadata": {},
     "output_type": "display_data"
    },
    {
     "data": {
      "application/vnd.jupyter.widget-view+json": {
       "model_id": "ca92237ebfb1496f8ee20782a1cf587d",
       "version_major": 2,
       "version_minor": 0
      },
      "text/plain": [
       "benchmarks/INST_36x36/15:   0%|          | 0/100 [00:00<?, ?it/s]"
      ]
     },
     "metadata": {},
     "output_type": "display_data"
    },
    {
     "data": {
      "application/vnd.jupyter.widget-view+json": {
       "model_id": "a01f709110594590a293f14cda67217e",
       "version_major": 2,
       "version_minor": 0
      },
      "text/plain": [
       "benchmarks/INST_36x36/20:   0%|          | 0/100 [00:00<?, ?it/s]"
      ]
     },
     "metadata": {},
     "output_type": "display_data"
    },
    {
     "data": {
      "application/vnd.jupyter.widget-view+json": {
       "model_id": "f3f01d913cc84434b3c25910b32bf81d",
       "version_major": 2,
       "version_minor": 0
      },
      "text/plain": [
       "benchmarks/INST_36x36/25:   0%|          | 0/100 [00:00<?, ?it/s]"
      ]
     },
     "metadata": {},
     "output_type": "display_data"
    },
    {
     "data": {
      "application/vnd.jupyter.widget-view+json": {
       "model_id": "cc9f1403152749c2b6464c98562f8454",
       "version_major": 2,
       "version_minor": 0
      },
      "text/plain": [
       "benchmarks/INST_36x36/30:   0%|          | 0/100 [00:00<?, ?it/s]"
      ]
     },
     "metadata": {},
     "output_type": "display_data"
    },
    {
     "data": {
      "application/vnd.jupyter.widget-view+json": {
       "model_id": "fc37b83da906484699c0d30c10002d3f",
       "version_major": 2,
       "version_minor": 0
      },
      "text/plain": [
       "benchmarks/INST_36x36/35:   0%|          | 0/100 [00:00<?, ?it/s]"
      ]
     },
     "metadata": {},
     "output_type": "display_data"
    },
    {
     "data": {
      "application/vnd.jupyter.widget-view+json": {
       "model_id": "acc3ea72f5c24af9bf9dacef010dcc74",
       "version_major": 2,
       "version_minor": 0
      },
      "text/plain": [
       "benchmarks/INST_36x36/40:   0%|          | 0/100 [00:00<?, ?it/s]"
      ]
     },
     "metadata": {},
     "output_type": "display_data"
    },
    {
     "data": {
      "application/vnd.jupyter.widget-view+json": {
       "model_id": "4b99abf7897f4e2cae2fd0714e3e6306",
       "version_major": 2,
       "version_minor": 0
      },
      "text/plain": [
       "benchmarks/INST_36x36/45:   0%|          | 0/100 [00:00<?, ?it/s]"
      ]
     },
     "metadata": {},
     "output_type": "display_data"
    },
    {
     "data": {
      "application/vnd.jupyter.widget-view+json": {
       "model_id": "8a94f43430b3487394e90fb412948fdd",
       "version_major": 2,
       "version_minor": 0
      },
      "text/plain": [
       "benchmarks/INST_36x36/50:   0%|          | 0/100 [00:00<?, ?it/s]"
      ]
     },
     "metadata": {},
     "output_type": "display_data"
    },
    {
     "data": {
      "application/vnd.jupyter.widget-view+json": {
       "model_id": "6851a1421bbc4094abe0e3b1184b8d8a",
       "version_major": 2,
       "version_minor": 0
      },
      "text/plain": [
       "benchmarks/INST_36x36/55:   0%|          | 0/100 [00:00<?, ?it/s]"
      ]
     },
     "metadata": {},
     "output_type": "display_data"
    },
    {
     "data": {
      "application/vnd.jupyter.widget-view+json": {
       "model_id": "43b681dbc888494c95afce4364055130",
       "version_major": 2,
       "version_minor": 0
      },
      "text/plain": [
       "benchmarks/INST_36x36/60:   0%|          | 0/100 [00:00<?, ?it/s]"
      ]
     },
     "metadata": {},
     "output_type": "display_data"
    },
    {
     "data": {
      "application/vnd.jupyter.widget-view+json": {
       "model_id": "55352c7490534370a918ff982adcade8",
       "version_major": 2,
       "version_minor": 0
      },
      "text/plain": [
       "benchmarks/INST_36x36/65:   0%|          | 0/100 [00:00<?, ?it/s]"
      ]
     },
     "metadata": {},
     "output_type": "display_data"
    },
    {
     "data": {
      "application/vnd.jupyter.widget-view+json": {
       "model_id": "af7f51b471854af7bf4443c442daa6a9",
       "version_major": 2,
       "version_minor": 0
      },
      "text/plain": [
       "benchmarks/INST_36x36/70:   0%|          | 0/100 [00:00<?, ?it/s]"
      ]
     },
     "metadata": {},
     "output_type": "display_data"
    },
    {
     "data": {
      "application/vnd.jupyter.widget-view+json": {
       "model_id": "9edd379d648d416599312291513967a8",
       "version_major": 2,
       "version_minor": 0
      },
      "text/plain": [
       "benchmarks/INST_36x36/75:   0%|          | 0/100 [00:00<?, ?it/s]"
      ]
     },
     "metadata": {},
     "output_type": "display_data"
    },
    {
     "data": {
      "application/vnd.jupyter.widget-view+json": {
       "model_id": "c498ce26d6d046bbb795c3926f2c1cb0",
       "version_major": 2,
       "version_minor": 0
      },
      "text/plain": [
       "benchmarks/INST_36x36/80:   0%|          | 0/100 [00:00<?, ?it/s]"
      ]
     },
     "metadata": {},
     "output_type": "display_data"
    },
    {
     "data": {
      "application/vnd.jupyter.widget-view+json": {
       "model_id": "c91f6b84da8c41ee991fac533608e5f2",
       "version_major": 2,
       "version_minor": 0
      },
      "text/plain": [
       "benchmarks/INST_36x36/85:   0%|          | 0/100 [00:00<?, ?it/s]"
      ]
     },
     "metadata": {},
     "output_type": "display_data"
    },
    {
     "data": {
      "application/vnd.jupyter.widget-view+json": {
       "model_id": "d86a8205a56d4a9c84acf4bca1fd34cd",
       "version_major": 2,
       "version_minor": 0
      },
      "text/plain": [
       "benchmarks/INST_36x36/90:   0%|          | 0/100 [00:00<?, ?it/s]"
      ]
     },
     "metadata": {},
     "output_type": "display_data"
    },
    {
     "data": {
      "application/vnd.jupyter.widget-view+json": {
       "model_id": "27458f90c17a4a758c46d1f6d1b9c768",
       "version_major": 2,
       "version_minor": 0
      },
      "text/plain": [
       "benchmarks/INST_36x36/95:   0%|          | 0/100 [00:00<?, ?it/s]"
      ]
     },
     "metadata": {},
     "output_type": "display_data"
    }
   ],
   "source": [
    "a = sudoku()\n",
    "for i in range(0, 100, 5):\n",
    "    a.get_benchmarks(percentage=i)"
   ]
  }
 ],
 "metadata": {
  "kernelspec": {
   "display_name": "Python 3.9.12 ('base')",
   "language": "python",
   "name": "python3"
  },
  "language_info": {
   "codemirror_mode": {
    "name": "ipython",
    "version": 3
   },
   "file_extension": ".py",
   "mimetype": "text/x-python",
   "name": "python",
   "nbconvert_exporter": "python",
   "pygments_lexer": "ipython3",
   "version": "3.9.12"
  },
  "orig_nbformat": 4,
  "vscode": {
   "interpreter": {
    "hash": "b92a0254a30c2afbf0cf228538e1698f068dfe9bb515fbf9837b53b2177d9016"
   }
  }
 },
 "nbformat": 4,
 "nbformat_minor": 2
}
