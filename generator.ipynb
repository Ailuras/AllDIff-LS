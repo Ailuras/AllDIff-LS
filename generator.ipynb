{
 "cells": [
  {
   "cell_type": "code",
   "execution_count": 2,
   "metadata": {},
   "outputs": [],
   "source": [
    "import re\n",
    "from sys import prefix\n",
    "import pandas as pd\n",
    "import random\n",
    "import os\n",
    "import shutil\n",
    "from tqdm.notebook import tqdm\n",
    "import matplotlib.pyplot as plt\n",
    "\n",
    "\n",
    "class sudoku:\n",
    "    def __init__(self, init=False, path='benchmarks', solver='sudoku_acs', execl='charts/base.xlsx', opt_path = '/INST_49x49/100'):\n",
    "        self.path = path\n",
    "        self.opt_path = path + opt_path\n",
    "        self.solver = solver\n",
    "        self.data_path = 'results/' + solver\n",
    "        self.records = pd.read_excel(execl, header=[0], index_col = [0])\n",
    "        if init:\n",
    "            self.records = self.records.drop(index=self.records.index)\n",
    "            self.get_info(path)\n",
    "            \n",
    "    def get_benchmarks(self, percentage=0):\n",
    "        file_list = os.listdir(self.opt_path)\n",
    "        target_path = self.opt_path[:-3] + str(percentage)\n",
    "        if not os.path.exists(target_path):\n",
    "            os.makedirs(target_path)\n",
    "        for file in tqdm(file_list, target_path):\n",
    "            path = os.path.join(self.opt_path, file)\n",
    "            with open(path) as f:\n",
    "                grid = []\n",
    "                order = f.readline()[:-1]\n",
    "                is_sat = f.readline()\n",
    "                square = int(order)*int(order)\n",
    "                for i in range(square):\n",
    "                    grid.append(f.readline().split())\n",
    "                index = 0\n",
    "                total = (100-percentage)*square*square/100\n",
    "                while index < total:\n",
    "                    x = random.randint(0, square-1)\n",
    "                    y = random.randint(0, square-1)\n",
    "                    if grid[x][y] != '-1':\n",
    "                        grid[x][y] = '-1'\n",
    "                        index += 1\n",
    "                filename = file.split('_')\n",
    "                filename[1] = str(percentage)\n",
    "                filename = '_'.join(filename)\n",
    "                with open(target_path + '/' + filename, 'w') as out:\n",
    "                    out.write(order + '\\n')\n",
    "                    out.write(is_sat)\n",
    "                    for i in range(square):\n",
    "                        line = ''\n",
    "                        for j in range(square):\n",
    "                            line = line + grid[i][j] + '\\t'\n",
    "                        out.write(line[:-1] + '\\n')\n",
    "\n",
    "    def get_info(self, path):\n",
    "        folder_list = os.listdir(path)\n",
    "        for folder in folder_list:\n",
    "            new_path = os.path.join(path, folder)\n",
    "            if os.path.isdir(new_path):\n",
    "                self.get_info(new_path)\n",
    "            else:\n",
    "                filename = new_path.split('/')[-1]\n",
    "                category = filename.split('_')[0]\n",
    "                percentage = filename.split('_')[1]\n",
    "                self.records.loc[len(self.records.index)] = [filename, category, percentage]\n",
    "        \n",
    "    def save_to(self, filename):\n",
    "        self.records.to_excel(filename)\n",
    "        \n",
    "    def arrange(self):\n",
    "        # for filename in tqdm(folder_list, desc=folder_path):\n",
    "        category_list = os.listdir(self.data_path)\n",
    "        for folder in category_list:\n",
    "            folder_path = os.path.join(self.data_path, folder)\n",
    "            file_list = os.listdir(folder_path)\n",
    "            for file in tqdm(file_list, desc=folder_path):\n",
    "                path = os.path.join(folder_path, file)\n",
    "                with open(path) as f:\n",
    "                    try:\n",
    "                        if self.solver == 'sudoku_acs':\n",
    "                            while f.readline():\n",
    "                                result = f.readline()[:-1]\n",
    "                                if result == '0':\n",
    "                                    result = 'sat'\n",
    "                                elif result == '1':\n",
    "                                    result = 'timeout'\n",
    "                                time = f.readline()[:-1]\n",
    "                                if result == 'timeout':\n",
    "                                    time = '1000.000000'\n",
    "                                info = f.readline()\n",
    "                                # time = info.split(' : ')[-1][:-5]\n",
    "                                name = info.split(' : ')[0].split('/')[-1]\n",
    "                                # print(name)\n",
    "                                self.records.loc[self.records['filename'] == name, ['result_' + self.solver, 'time_' + self.solver]] = [result, float(time)]\n",
    "                        elif self.solver == 'sudoku_lsc':\n",
    "                            while f.readline():\n",
    "                                info = f.readline()[:-1]\n",
    "                                result = 'timeout'\n",
    "                                time = '1000.000000'\n",
    "                                name = info.split(' ')[0].split('/')[-1]\n",
    "                                if 'find answer' in info:\n",
    "                                    result = 'sat'\n",
    "                                    time = info.split(': ')[-1]\n",
    "                                    f.readline()\n",
    "                                # print(name)\n",
    "                                self.records.loc[self.records['filename'] == name, ['result_' + self.solver, 'time_' + self.solver]] = [result, float(time)]\n",
    "                    except:\n",
    "                        print(path)\n",
    "   "
   ]
  },
  {
   "cell_type": "markdown",
   "metadata": {},
   "source": [
    "生成高阶benchmarks"
   ]
  },
  {
   "cell_type": "code",
   "execution_count": null,
   "metadata": {},
   "outputs": [],
   "source": [
    "# def get_empty_benchmarks(order=7, path='benchmarks/INST_64x64/0'):\n",
    "#     for i in range(100):\n",
    "#         filepath = path + '/inst64x64_0_' + str(i) + '.txt'\n",
    "#         with open(filepath, 'w') as f:\n",
    "#             f.write(str(order) + '\\n') \n",
    "#             f.write('1\\n')\n",
    "#             square = order*order\n",
    "#             for _ in range(square):\n",
    "#                 line = ''\n",
    "#                 for _ in range(square):\n",
    "#                     line = line + '-1' + '\\t'\n",
    "#                 f.write(line[:-1] + '\\n')\n",
    "# get_empty_benchmarks(order=8)"
   ]
  },
  {
   "cell_type": "code",
   "execution_count": null,
   "metadata": {},
   "outputs": [],
   "source": [
    "# a = sudoku(opt_path='/INST_81x81/100')\n",
    "# for i in range(0, 100, 5):\n",
    "#     a.get_benchmarks(percentage=i)"
   ]
  },
  {
   "cell_type": "markdown",
   "metadata": {},
   "source": [
    "初始化表格"
   ]
  },
  {
   "cell_type": "code",
   "execution_count": null,
   "metadata": {},
   "outputs": [],
   "source": [
    "a = sudoku(init=True)\n",
    "a.save_to('charts/base.xlsx')"
   ]
  },
  {
   "cell_type": "markdown",
   "metadata": {},
   "source": [
    "sudoku_acs 生成表格"
   ]
  },
  {
   "cell_type": "code",
   "execution_count": 3,
   "metadata": {},
   "outputs": [
    {
     "data": {
      "application/vnd.jupyter.widget-view+json": {
       "model_id": "b01dd35e407a47e1af99844a39a23714",
       "version_major": 2,
       "version_minor": 0
      },
      "text/plain": [
       "results/sudoku_acs/INST_49x49:   0%|          | 0/21 [00:00<?, ?it/s]"
      ]
     },
     "metadata": {},
     "output_type": "display_data"
    },
    {
     "data": {
      "application/vnd.jupyter.widget-view+json": {
       "model_id": "90fc30d551394cdebda9edde4e50d0d3",
       "version_major": 2,
       "version_minor": 0
      },
      "text/plain": [
       "results/sudoku_acs/INST_9x9:   0%|          | 0/21 [00:00<?, ?it/s]"
      ]
     },
     "metadata": {},
     "output_type": "display_data"
    },
    {
     "data": {
      "application/vnd.jupyter.widget-view+json": {
       "model_id": "c432848c291841e2ba5d8b8becf0b052",
       "version_major": 2,
       "version_minor": 0
      },
      "text/plain": [
       "results/sudoku_acs/INST_36x36:   0%|          | 0/21 [00:00<?, ?it/s]"
      ]
     },
     "metadata": {},
     "output_type": "display_data"
    },
    {
     "data": {
      "application/vnd.jupyter.widget-view+json": {
       "model_id": "81d8e0c714e34c3f9f1d2509f408a247",
       "version_major": 2,
       "version_minor": 0
      },
      "text/plain": [
       "results/sudoku_acs/INST_81x81:   0%|          | 0/21 [00:00<?, ?it/s]"
      ]
     },
     "metadata": {},
     "output_type": "display_data"
    },
    {
     "name": "stdout",
     "output_type": "stream",
     "text": [
      "results/sudoku_acs/INST_81x81/result_40.log\n",
      "results/sudoku_acs/INST_81x81/result_15.log\n",
      "results/sudoku_acs/INST_81x81/result_45.log\n",
      "results/sudoku_acs/INST_81x81/result_90.log\n",
      "results/sudoku_acs/INST_81x81/result_80.log\n",
      "results/sudoku_acs/INST_81x81/result_85.log\n",
      "results/sudoku_acs/INST_81x81/result_25.log\n",
      "results/sudoku_acs/INST_81x81/result_95.log\n",
      "results/sudoku_acs/INST_81x81/result_65.log\n",
      "results/sudoku_acs/INST_81x81/result_30.log\n",
      "results/sudoku_acs/INST_81x81/result_10.log\n",
      "results/sudoku_acs/INST_81x81/result_50.log\n",
      "results/sudoku_acs/INST_81x81/result_5.log\n",
      "results/sudoku_acs/INST_81x81/result_70.log\n",
      "results/sudoku_acs/INST_81x81/result_60.log\n",
      "results/sudoku_acs/INST_81x81/result_75.log\n",
      "results/sudoku_acs/INST_81x81/result_55.log\n",
      "results/sudoku_acs/INST_81x81/result_20.log\n",
      "results/sudoku_acs/INST_81x81/result_100.log\n",
      "results/sudoku_acs/INST_81x81/result_35.log\n",
      "results/sudoku_acs/INST_81x81/result_0.log\n"
     ]
    },
    {
     "data": {
      "application/vnd.jupyter.widget-view+json": {
       "model_id": "2349442741fe49e0af587aa9a7eabb2e",
       "version_major": 2,
       "version_minor": 0
      },
      "text/plain": [
       "results/sudoku_acs/INST_64x64:   0%|          | 0/21 [00:00<?, ?it/s]"
      ]
     },
     "metadata": {},
     "output_type": "display_data"
    },
    {
     "data": {
      "application/vnd.jupyter.widget-view+json": {
       "model_id": "6ef04ed1a1284fc9bf6b25260b6018e4",
       "version_major": 2,
       "version_minor": 0
      },
      "text/plain": [
       "results/sudoku_acs/INST_16x16:   0%|          | 0/21 [00:00<?, ?it/s]"
      ]
     },
     "metadata": {},
     "output_type": "display_data"
    },
    {
     "data": {
      "application/vnd.jupyter.widget-view+json": {
       "model_id": "b77791c58b0e4dd09a7f0ba4d81afb26",
       "version_major": 2,
       "version_minor": 0
      },
      "text/plain": [
       "results/sudoku_acs/INST_25x25:   0%|          | 0/21 [00:00<?, ?it/s]"
      ]
     },
     "metadata": {},
     "output_type": "display_data"
    }
   ],
   "source": [
    "b = sudoku(solver='sudoku_acs')\n",
    "b.arrange()\n",
    "b.save_to('charts/sudoku_acs.xlsx')"
   ]
  },
  {
   "cell_type": "markdown",
   "metadata": {},
   "source": [
    "sudoku_lsc 生成表格"
   ]
  },
  {
   "cell_type": "code",
   "execution_count": null,
   "metadata": {},
   "outputs": [],
   "source": [
    "c = sudoku(solver='sudoku_lsc', execl='charts/sudoku_acs.xlsx')\n",
    "c.arrange()\n",
    "c.save_to('charts/sudoku.xlsx')"
   ]
  }
 ],
 "metadata": {
  "kernelspec": {
   "display_name": "Python 3.9.12 ('base')",
   "language": "python",
   "name": "python3"
  },
  "language_info": {
   "codemirror_mode": {
    "name": "ipython",
    "version": 3
   },
   "file_extension": ".py",
   "mimetype": "text/x-python",
   "name": "python",
   "nbconvert_exporter": "python",
   "pygments_lexer": "ipython3",
   "version": "3.9.12"
  },
  "orig_nbformat": 4,
  "vscode": {
   "interpreter": {
    "hash": "b92a0254a30c2afbf0cf228538e1698f068dfe9bb515fbf9837b53b2177d9016"
   }
  }
 },
 "nbformat": 4,
 "nbformat_minor": 2
}
