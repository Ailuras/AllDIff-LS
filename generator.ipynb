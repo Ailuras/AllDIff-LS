{
 "cells": [
  {
   "cell_type": "code",
   "execution_count": 4,
   "metadata": {},
   "outputs": [],
   "source": [
    "from sys import prefix\n",
    "import pandas as pd\n",
    "import random\n",
    "import os\n",
    "import shutil\n",
    "from tqdm.notebook import tqdm\n",
    "import matplotlib.pyplot as plt\n",
    "import math\n",
    "from z3 import *\n",
    "\n",
    "class sudoku:\n",
    "    \n",
    "    def __init__(self, init=False, path='benchmarks', solver='sudoku_acs', execl='charts/base.xlsx', opt_path = '/INST_49x49/100'):\n",
    "        self.path = path\n",
    "        self.opt_path = path + opt_path\n",
    "        self.solver = solver\n",
    "        self.data_path = 'results/' + solver\n",
    "        self.records = pd.read_excel(execl, header=[0], index_col = [0])\n",
    "        if init:\n",
    "            self.records = self.records.drop(index=self.records.index)\n",
    "            self.get_info(path)\n",
    "            \n",
    "    def get_benchmarks(self, percentage=0):\n",
    "        file_list = os.listdir(self.opt_path)\n",
    "        target_path = self.opt_path[:-3] + str(percentage)\n",
    "        if not os.path.exists(target_path):\n",
    "            os.makedirs(target_path)\n",
    "        for file in tqdm(file_list, target_path):\n",
    "            path = os.path.join(self.opt_path, file)\n",
    "            with open(path) as f:\n",
    "                grid = []\n",
    "                order = f.readline()[:-1]\n",
    "                is_sat = f.readline()\n",
    "                square = int(order)*int(order)\n",
    "                for i in range(square):\n",
    "                    grid.append(f.readline().split())\n",
    "                index = 0\n",
    "                total = (100-percentage)*square*square/100\n",
    "                while index < total:\n",
    "                    x = random.randint(0, square-1)\n",
    "                    y = random.randint(0, square-1)\n",
    "                    if grid[x][y] != '-1':\n",
    "                        grid[x][y] = '-1'\n",
    "                        index += 1\n",
    "                filename = file.split('_')\n",
    "                filename[1] = str(percentage)\n",
    "                filename = '_'.join(filename)\n",
    "                with open(target_path + '/' + filename, 'w') as out:\n",
    "                    out.write(order + '\\n')\n",
    "                    out.write(is_sat)\n",
    "                    for i in range(square):\n",
    "                        line = ''\n",
    "                        for j in range(square):\n",
    "                            line = line + grid[i][j] + '\\t'\n",
    "                        out.write(line[:-1] + '\\n')\n",
    "\n",
    "    def get_empty_benchmarks(self, path='benchmarks/INST_64x64/0'):\n",
    "        square = int(path.split('/')[1].split('x')[-1])\n",
    "        for i in range(100):\n",
    "            filepath = f'{path}/inst{str(square)}x{str(square)}_0_{str(i)}.txt'\n",
    "            # filepath = path + '/inst64x64_0_' + str(i) + '.txt'\n",
    "            with open(filepath, 'w') as f:\n",
    "                f.write(str(math.sqrt(square)) + '\\n') \n",
    "                f.write('1\\n')\n",
    "                for _ in range(square):\n",
    "                    line = ''\n",
    "                    for _ in range(square):\n",
    "                        line = line + '-1' + '\\t'\n",
    "                    f.write(line[:-1] + '\\n')\n",
    "\n",
    "    def get_part_benchmarks(self, number=1, target_path='benchmarks_part'):\n",
    "        order_list = os.listdir(self.path)\n",
    "        if not os.path.exists(target_path):\n",
    "            os.makedirs(target_path)\n",
    "        for order in order_list:\n",
    "            order_path = os.path.join(target_path, order)\n",
    "            if not os.path.exists(order_path):\n",
    "                os.makedirs(order_path)\n",
    "            for i in range(0, 105, 5):\n",
    "                percentage_path = os.path.join(order_path, str(i))\n",
    "                if not os.path.exists(percentage_path):\n",
    "                    os.makedirs(percentage_path)\n",
    "                v1 = order.split('_')[-1]\n",
    "                v2 = str(i)\n",
    "                if number != 0:\n",
    "                    for index in range(number):\n",
    "                        origin_path = f'benchmarks/inst{v1}_{v2}_{index}.txt'\n",
    "                        shell = f'cp {origin_path} {percentage_path}'\n",
    "                        # print(shell)\n",
    "                        os.system(shell)\n",
    "\n",
    "    def get_CP_benchmarks(self, path='benchmarks_CP_part'):\n",
    "        order_list = os.listdir(path)\n",
    "        for order in order_list:\n",
    "            order_path = os.path.join(path, order)\n",
    "            for i in range(0, 105, 5):\n",
    "                percentage_path = os.path.join(order_path, str(i))\n",
    "                file_list = os.listdir(percentage_path)\n",
    "                for file in file_list:\n",
    "                    file_path = os.path.join(percentage_path, file)\n",
    "                    target_path = file_path.split('.')[0] + '.dzn'\n",
    "                    shell = f'mv {file_path} {target_path}'\n",
    "                    os.system(shell)\n",
    "                    lines = []\n",
    "                    with open(target_path) as f:\n",
    "                        lines = f.readlines()\n",
    "                    order = int(lines[0][:-1])\n",
    "                    \n",
    "                    lines[0] = f'S={str(order)};\\n'\n",
    "                    lines[1] = 'start=[|\\n'\n",
    "                    for i in range(order*order-1):\n",
    "                        lines[i+2] = lines[i+2].strip('\\t\\n').replace('\\t', ',\\t') + '|\\n'\n",
    "                    lines[-1] = lines[-1].strip('\\t\\n').replace('\\t', ',\\t') + '|];\\n'\n",
    "                    with open(target_path, 'w') as f:\n",
    "                        f.writelines(lines)\n",
    "    \n",
    "    def get_SMT_benchmarks(self, path='benchmarks_part'):\n",
    "        shell = f'rm -rf benchmarks_SAT'\n",
    "        os.system(shell)\n",
    "        shell = f'cp -rf {path} benchmarks_SAT'\n",
    "        os.system(shell)\n",
    "        order_list = os.listdir('benchmarks_SAT')\n",
    "        for order in order_list:\n",
    "            order_path = os.path.join('benchmarks_SAT', order)\n",
    "            origin_path = ''\n",
    "            for percentage in tqdm(range(0, 105, 5), desc=order_path):\n",
    "                percentage_path = os.path.join(order_path, str(percentage))\n",
    "                file_list = os.listdir(percentage_path)\n",
    "                for file in file_list:\n",
    "                    if percentage == 0:\n",
    "                        file_path = os.path.join(percentage_path, file)\n",
    "                        target_path = file_path.split('.')[0] + '.smt2'\n",
    "                        origin_path = target_path\n",
    "                        shell = f'mv {file_path} {target_path}'\n",
    "                        os.system(shell)\n",
    "                        lines = []\n",
    "                        with open(target_path) as f:\n",
    "                            lines = f.readlines()\n",
    "                        order = int(lines[0][:-1])\n",
    "                        n = order*order\n",
    "                        \n",
    "                        A = []\n",
    "                        for i in range(n):\n",
    "                            A.append(lines[i+2].strip('\\t\\n').split('\\t'))\n",
    "                        X = [ [ [ Bool(\"x_%s_%s_%s\" % (i+1, j+1, v+1)) for v in range(n) ] for j in range(n) ] for i in range(n) ]\n",
    "                        domain_c = []\n",
    "                        for i in range(n):\n",
    "                            for j in range(n):\n",
    "                                domain_c += [ AtMost(*[X[i][j][v] for v in range(n)], 1) ]\n",
    "                                domain_c += [ AtLeast(*[X[i][j][v] for v in range(n)], 1) ] \n",
    "                        dists_c = []\n",
    "                        for i in range(n):\n",
    "                            for v in range(n):\n",
    "                                dists_c += [ AtMost(*[X[i][j][v] for j in range(n)], 1) ]\n",
    "                                dists_c += [ AtLeast(*[X[i][j][v] for j in range(n)], 1) ]\n",
    "                        for j in range(n):\n",
    "                            for v in range(n):\n",
    "                                dists_c += [ AtMost(*[X[i][j][v] for i in range(n)], 1) ]\n",
    "                                dists_c += [ AtLeast(*[X[i][j][v] for i in range(n)], 1) ]\n",
    "                        for x in range(order):\n",
    "                            for y in range(order):\n",
    "                                for v in range(n):\n",
    "                                    dists_c += [ AtMost(*[X[x*order + x1][y*order + y1][v] for x1 in range(order) for y1 in range(order)], 1) ]\n",
    "                                    dists_c += [ AtLeast(*[X[x*order + x1][y*order + y1][v] for x1 in range(order) for y1 in range(order)], 1) ]\n",
    "                        \n",
    "                        sudoku_c = domain_c + dists_c\n",
    "                        s = Solver()\n",
    "                        s.add(sudoku_c)\n",
    "                        smt = s.to_smt2().split('\\n')\n",
    "                        smt = [i+'\\n' for i in smt]\n",
    "                        with open(target_path, 'w') as f:\n",
    "                            f.writelines(smt)\n",
    "                \n",
    "                        use_path = file_path.split('.')[0] + '_use.smt2'\n",
    "                        shell = f'cp {target_path} {use_path}'\n",
    "                        os.system(shell)\n",
    "                        \n",
    "                    else:\n",
    "                        file_path = os.path.join(percentage_path, file)\n",
    "                        target_path = file_path.split('.')[0] + '.smt2'\n",
    "                        shell = f'mv {file_path} {target_path}'\n",
    "                        os.system(shell)\n",
    "                        shell = f'cp {origin_path} {target_path}'\n",
    "                        os.system(shell)\n",
    "                        use_path = file_path.split('.')[0] + '_use.smt2'\n",
    "                        shell = f'cp {target_path} {use_path}'\n",
    "                        os.system(shell)\n",
    "\n",
    "    def get_SAT_benchmarks(self, path='benchmarks'):\n",
    "        pass    \n",
    "\n",
    "    def get_info(self, path):\n",
    "        folder_list = os.listdir(path)\n",
    "        for folder in folder_list:\n",
    "            new_path = os.path.join(path, folder)\n",
    "            if os.path.isdir(new_path):\n",
    "                self.get_info(new_path)\n",
    "            else:\n",
    "                filename = new_path.split('/')[-1]\n",
    "                category = filename.split('_')[0]\n",
    "                percentage = filename.split('_')[1]\n",
    "                self.records.loc[len(self.records.index)] = [filename, category, percentage]\n",
    "        \n",
    "    def save_to(self, filename):\n",
    "        self.records.to_excel(filename)\n",
    "        \n",
    "    def arrange(self):\n",
    "        # for filename in tqdm(folder_list, desc=folder_path):\n",
    "        category_list = os.listdir(self.data_path)\n",
    "        for folder in category_list:\n",
    "            folder_path = os.path.join(self.data_path, folder)\n",
    "            file_list = os.listdir(folder_path)\n",
    "            for file in tqdm(file_list, desc=folder_path):\n",
    "                path = os.path.join(folder_path, file)\n",
    "                with open(path) as f:\n",
    "                    try:\n",
    "                        if self.solver == 'sudoku_acs':\n",
    "                            while f.readline():\n",
    "                                result = f.readline()[:-1]\n",
    "                                if result == '0':\n",
    "                                    result = 'sat'\n",
    "                                elif result == '1':\n",
    "                                    result = 'timeout'\n",
    "                                time = f.readline()[:-1]\n",
    "                                if result == 'timeout':\n",
    "                                    time = '1000.000000'\n",
    "                                info = f.readline()\n",
    "                                # time = info.split(' : ')[-1][:-5]\n",
    "                                name = info.split(' : ')[0].split('/')[-1]\n",
    "                                # print(name)\n",
    "                                self.records.loc[self.records['filename'] == name, ['result_' + self.solver, 'time_' + self.solver]] = [result, float(time)]\n",
    "                        elif self.solver == 'sudoku_lsc':\n",
    "                            while f.readline():\n",
    "                                info = f.readline()[:-1]\n",
    "                                result = 'timeout'\n",
    "                                time = '1000.000000'\n",
    "                                name = info.split(' ')[0].split('/')[-1]\n",
    "                                if 'find answer' in info:\n",
    "                                    result = 'sat'\n",
    "                                    time = info.split(': ')[-1]\n",
    "                                    f.readline()\n",
    "                                # print(name)\n",
    "                                self.records.loc[self.records['filename'] == name, ['result_' + self.solver, 'time_' + self.solver]] = [result, float(time)]\n",
    "                        elif self.solver == 'sudoku_csp':\n",
    "                            while f.readline():\n",
    "                                result = f.readline()[:-1]\n",
    "                                time = '1000.000000'\n",
    "                                if result[:3] == 'SAT':\n",
    "                                    result = 'sat'\n",
    "                                    f.readline()\n",
    "                                elif result[:3] == '===':\n",
    "                                    result = 'timeout'\n",
    "                                info = f.readline()\n",
    "                                if result == 'sat':\n",
    "                                    time = int(info.split(' : ')[-1].split(' ')[0]) / 1000.0\n",
    "                                name = info.split(' : ')[0].split('/')[-1].split('.')[0] + '.txt'\n",
    "                                self.records.loc[self.records['filename'] == name, ['result_' + self.solver, 'time_' + self.solver]] = [result, float(time)]\n",
    "                        elif self.solver == 'sudoku_sat':\n",
    "                            while f.readline():\n",
    "                                info = ''\n",
    "                                result = f.readline()[:-1]\n",
    "                                time = '1000.000000'\n",
    "                                if result[:3] == 's S':\n",
    "                                    result = 'sat'\n",
    "                                    info = f.readline()\n",
    "                                else:\n",
    "                                    info = result\n",
    "                                    result = 'timeout'\n",
    "                                if result == 'sat':\n",
    "                                    time = int(info.split(' : ')[-1].split(' ')[0]) / 1000.0\n",
    "                                name = info.split(' : ')[0].split('/')[-1].split('.')[0] + '.txt'\n",
    "                                self.records.loc[self.records['filename'] == name, ['result_' + self.solver, 'time_' + self.solver]] = [result, float(time)]\n",
    "                    except:\n",
    "                        print(path)\n",
    "   "
   ]
  },
  {
   "cell_type": "markdown",
   "metadata": {},
   "source": [
    "初始时，生成未填充的sudoku，用于求解得到完全填充的sudoku"
   ]
  },
  {
   "cell_type": "code",
   "execution_count": null,
   "metadata": {},
   "outputs": [],
   "source": [
    "# a = sudoku()\n",
    "# a.get_empty_benchmarks()"
   ]
  },
  {
   "cell_type": "markdown",
   "metadata": {},
   "source": [
    "初始时，由完全填充的sudoku，删除部分值得到部分填充的benchmarks"
   ]
  },
  {
   "cell_type": "code",
   "execution_count": null,
   "metadata": {},
   "outputs": [],
   "source": [
    "# a = sudoku(opt_path='/INST_81x81/100')\n",
    "# for i in range(0, 100, 5):\n",
    "#     a.get_benchmarks(percentage=i)"
   ]
  },
  {
   "cell_type": "markdown",
   "metadata": {},
   "source": [
    "获取部分benchmarks（每个类型只有部分文件）用于测试"
   ]
  },
  {
   "cell_type": "code",
   "execution_count": null,
   "metadata": {},
   "outputs": [],
   "source": [
    "a = sudoku()\n",
    "a.get_part_benchmarks(number=0,target_path='benchmarks_SAT')\n",
    "# for i in range(0, 105, 5):\n",
    "#     print(i)"
   ]
  },
  {
   "cell_type": "markdown",
   "metadata": {},
   "source": [
    "获取用于CP的benchmarks"
   ]
  },
  {
   "cell_type": "code",
   "execution_count": null,
   "metadata": {},
   "outputs": [],
   "source": [
    "a = sudoku()\n",
    "a.get_CP_benchmarks(path='benchmarks_part_CP')"
   ]
  },
  {
   "cell_type": "markdown",
   "metadata": {},
   "source": [
    "获取用于SAT的benchmarks"
   ]
  },
  {
   "cell_type": "code",
   "execution_count": null,
   "metadata": {},
   "outputs": [],
   "source": [
    "a = sudoku()\n",
    "a.get_SAT_benchmarks(path='benchmarks_part')"
   ]
  },
  {
   "cell_type": "markdown",
   "metadata": {},
   "source": [
    "初始化表格"
   ]
  },
  {
   "cell_type": "code",
   "execution_count": null,
   "metadata": {},
   "outputs": [],
   "source": [
    "a = sudoku(init=True)\n",
    "a.save_to('charts/base.xlsx')"
   ]
  },
  {
   "cell_type": "markdown",
   "metadata": {},
   "source": [
    "sudoku_lsc 生成表格"
   ]
  },
  {
   "cell_type": "code",
   "execution_count": null,
   "metadata": {},
   "outputs": [],
   "source": [
    "b = sudoku(solver='sudoku_lsc')\n",
    "b.arrange()\n",
    "b.save_to('charts/sudoku_lsc.xlsx')"
   ]
  },
  {
   "cell_type": "markdown",
   "metadata": {},
   "source": [
    "sudoku_acs 生成表格"
   ]
  },
  {
   "cell_type": "code",
   "execution_count": null,
   "metadata": {},
   "outputs": [],
   "source": [
    "c = sudoku(solver='sudoku_acs', execl='charts/sudoku_lsc.xlsx')\n",
    "c.arrange()\n",
    "c.save_to('charts/sudoku_acs.xlsx')"
   ]
  },
  {
   "cell_type": "markdown",
   "metadata": {},
   "source": [
    "sudoku_csp 生成表格"
   ]
  },
  {
   "cell_type": "code",
   "execution_count": 2,
   "metadata": {},
   "outputs": [
    {
     "data": {
      "application/vnd.jupyter.widget-view+json": {
       "model_id": "51b5a36b35b94ff6a1b58bc655b5b0f3",
       "version_major": 2,
       "version_minor": 0
      },
      "text/plain": [
       "results/sudoku_csp/INST_49x49:   0%|          | 0/21 [00:00<?, ?it/s]"
      ]
     },
     "metadata": {},
     "output_type": "display_data"
    },
    {
     "data": {
      "application/vnd.jupyter.widget-view+json": {
       "model_id": "f30b3361a5a941d8a0e88aa6025b7cbc",
       "version_major": 2,
       "version_minor": 0
      },
      "text/plain": [
       "results/sudoku_csp/INST_9x9:   0%|          | 0/21 [00:00<?, ?it/s]"
      ]
     },
     "metadata": {},
     "output_type": "display_data"
    },
    {
     "data": {
      "application/vnd.jupyter.widget-view+json": {
       "model_id": "89f0888d145a4deb825d2fb8dee6ba48",
       "version_major": 2,
       "version_minor": 0
      },
      "text/plain": [
       "results/sudoku_csp/INST_36x36:   0%|          | 0/21 [00:00<?, ?it/s]"
      ]
     },
     "metadata": {},
     "output_type": "display_data"
    },
    {
     "data": {
      "application/vnd.jupyter.widget-view+json": {
       "model_id": "1c46c93950d94c6b818f4cb0c8c77006",
       "version_major": 2,
       "version_minor": 0
      },
      "text/plain": [
       "results/sudoku_csp/INST_81x81:   0%|          | 0/21 [00:00<?, ?it/s]"
      ]
     },
     "metadata": {},
     "output_type": "display_data"
    },
    {
     "data": {
      "application/vnd.jupyter.widget-view+json": {
       "model_id": "805a3e3bf4484c56867accc3de9e4eea",
       "version_major": 2,
       "version_minor": 0
      },
      "text/plain": [
       "results/sudoku_csp/INST_64x64:   0%|          | 0/21 [00:00<?, ?it/s]"
      ]
     },
     "metadata": {},
     "output_type": "display_data"
    },
    {
     "data": {
      "application/vnd.jupyter.widget-view+json": {
       "model_id": "be53e0b11ae147c68bb45fea49700aed",
       "version_major": 2,
       "version_minor": 0
      },
      "text/plain": [
       "results/sudoku_csp/INST_16x16:   0%|          | 0/21 [00:00<?, ?it/s]"
      ]
     },
     "metadata": {},
     "output_type": "display_data"
    },
    {
     "data": {
      "application/vnd.jupyter.widget-view+json": {
       "model_id": "c8d9d1d5929c4414a8ff8f4a39182cf5",
       "version_major": 2,
       "version_minor": 0
      },
      "text/plain": [
       "results/sudoku_csp/INST_25x25:   0%|          | 0/21 [00:00<?, ?it/s]"
      ]
     },
     "metadata": {},
     "output_type": "display_data"
    }
   ],
   "source": [
    "c = sudoku(solver='sudoku_csp', execl='charts/sudoku_acs.xlsx')\n",
    "c.arrange()\n",
    "c.save_to('charts/sudoku_csp.xlsx')"
   ]
  },
  {
   "cell_type": "markdown",
   "metadata": {},
   "source": [
    "sudoku_sat 生成表格"
   ]
  },
  {
   "cell_type": "code",
   "execution_count": 5,
   "metadata": {},
   "outputs": [
    {
     "data": {
      "application/vnd.jupyter.widget-view+json": {
       "model_id": "d4f36aa085164689a327aec7c6729640",
       "version_major": 2,
       "version_minor": 0
      },
      "text/plain": [
       "results/sudoku_sat/INST_49x49:   0%|          | 0/21 [00:00<?, ?it/s]"
      ]
     },
     "metadata": {},
     "output_type": "display_data"
    },
    {
     "data": {
      "application/vnd.jupyter.widget-view+json": {
       "model_id": "60416e2663534eb398a2175d9e911515",
       "version_major": 2,
       "version_minor": 0
      },
      "text/plain": [
       "results/sudoku_sat/INST_9x9:   0%|          | 0/21 [00:00<?, ?it/s]"
      ]
     },
     "metadata": {},
     "output_type": "display_data"
    },
    {
     "data": {
      "application/vnd.jupyter.widget-view+json": {
       "model_id": "0e94460a25764488abc855cafaaa4324",
       "version_major": 2,
       "version_minor": 0
      },
      "text/plain": [
       "results/sudoku_sat/INST_36x36:   0%|          | 0/21 [00:00<?, ?it/s]"
      ]
     },
     "metadata": {},
     "output_type": "display_data"
    },
    {
     "data": {
      "application/vnd.jupyter.widget-view+json": {
       "model_id": "0da0d6ee554243feb84aa1738fa518c8",
       "version_major": 2,
       "version_minor": 0
      },
      "text/plain": [
       "results/sudoku_sat/INST_64x64:   0%|          | 0/21 [00:00<?, ?it/s]"
      ]
     },
     "metadata": {},
     "output_type": "display_data"
    },
    {
     "data": {
      "application/vnd.jupyter.widget-view+json": {
       "model_id": "2321645166194afb814a33c676adb6b0",
       "version_major": 2,
       "version_minor": 0
      },
      "text/plain": [
       "results/sudoku_sat/INST_16x16:   0%|          | 0/21 [00:00<?, ?it/s]"
      ]
     },
     "metadata": {},
     "output_type": "display_data"
    },
    {
     "data": {
      "application/vnd.jupyter.widget-view+json": {
       "model_id": "94a4efcb4c8d409093b6604f22ab2f70",
       "version_major": 2,
       "version_minor": 0
      },
      "text/plain": [
       "results/sudoku_sat/INST_25x25:   0%|          | 0/21 [00:00<?, ?it/s]"
      ]
     },
     "metadata": {},
     "output_type": "display_data"
    }
   ],
   "source": [
    "c = sudoku(solver='sudoku_sat', execl='charts/sudoku_csp.xlsx')\n",
    "c.arrange()\n",
    "c.save_to('charts/sudoku_sat.xlsx')"
   ]
  }
 ],
 "metadata": {
  "kernelspec": {
   "display_name": "Python 3.9.12 ('base')",
   "language": "python",
   "name": "python3"
  },
  "language_info": {
   "codemirror_mode": {
    "name": "ipython",
    "version": 3
   },
   "file_extension": ".py",
   "mimetype": "text/x-python",
   "name": "python",
   "nbconvert_exporter": "python",
   "pygments_lexer": "ipython3",
   "version": "3.9.12"
  },
  "orig_nbformat": 4,
  "vscode": {
   "interpreter": {
    "hash": "b92a0254a30c2afbf0cf228538e1698f068dfe9bb515fbf9837b53b2177d9016"
   }
  }
 },
 "nbformat": 4,
 "nbformat_minor": 2
}
