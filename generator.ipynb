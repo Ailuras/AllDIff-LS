{
 "cells": [
  {
   "cell_type": "code",
   "execution_count": 2,
   "metadata": {},
   "outputs": [],
   "source": [
    "from sys import prefix\n",
    "import pandas as pd\n",
    "import random\n",
    "import os\n",
    "import shutil\n",
    "from tqdm.notebook import tqdm\n",
    "import matplotlib.pyplot as plt\n",
    "import math\n",
    "from z3 import *\n",
    "\n",
    "class sudoku:\n",
    "    \n",
    "    def __init__(self, init=False, path='benchmarks', solver='sudoku_acs', execl='charts/base.xlsx', opt_path = '/INST_49x49/100'):\n",
    "        self.path = path\n",
    "        self.opt_path = path + opt_path\n",
    "        self.solver = solver\n",
    "        self.data_path = 'results/' + solver\n",
    "        self.records = pd.read_excel(execl, header=[0], index_col = [0])\n",
    "        if init:\n",
    "            self.records = self.records.drop(index=self.records.index)\n",
    "            self.get_info(path)\n",
    "            \n",
    "    def get_benchmarks(self, percentage=0):\n",
    "        file_list = os.listdir(self.opt_path)\n",
    "        target_path = self.opt_path[:-3] + str(percentage)\n",
    "        if not os.path.exists(target_path):\n",
    "            os.makedirs(target_path)\n",
    "        for file in tqdm(file_list, target_path):\n",
    "            path = os.path.join(self.opt_path, file)\n",
    "            with open(path) as f:\n",
    "                grid = []\n",
    "                order = f.readline()[:-1]\n",
    "                is_sat = f.readline()\n",
    "                square = int(order)*int(order)\n",
    "                for i in range(square):\n",
    "                    grid.append(f.readline().split())\n",
    "                index = 0\n",
    "                total = (100-percentage)*square*square/100\n",
    "                while index < total:\n",
    "                    x = random.randint(0, square-1)\n",
    "                    y = random.randint(0, square-1)\n",
    "                    if grid[x][y] != '-1':\n",
    "                        grid[x][y] = '-1'\n",
    "                        index += 1\n",
    "                filename = file.split('_')\n",
    "                filename[1] = str(percentage)\n",
    "                filename = '_'.join(filename)\n",
    "                with open(target_path + '/' + filename, 'w') as out:\n",
    "                    out.write(order + '\\n')\n",
    "                    out.write(is_sat)\n",
    "                    for i in range(square):\n",
    "                        line = ''\n",
    "                        for j in range(square):\n",
    "                            line = line + grid[i][j] + '\\t'\n",
    "                        out.write(line[:-1] + '\\n')\n",
    "\n",
    "    def get_empty_benchmarks(self, path='benchmarks/INST_64x64/0'):\n",
    "        square = int(path.split('/')[1].split('x')[-1])\n",
    "        for i in range(100):\n",
    "            filepath = f'{path}/inst{str(square)}x{str(square)}_0_{str(i)}.txt'\n",
    "            # filepath = path + '/inst64x64_0_' + str(i) + '.txt'\n",
    "            with open(filepath, 'w') as f:\n",
    "                f.write(str(math.sqrt(square)) + '\\n') \n",
    "                f.write('1\\n')\n",
    "                for _ in range(square):\n",
    "                    line = ''\n",
    "                    for _ in range(square):\n",
    "                        line = line + '-1' + '\\t'\n",
    "                    f.write(line[:-1] + '\\n')\n",
    "\n",
    "    def get_part_benchmarks(self, number=1, target_path='benchmarks_part'):\n",
    "        order_list = os.listdir(self.path)\n",
    "        if not os.path.exists(target_path):\n",
    "            os.makedirs(target_path)\n",
    "        for order in order_list:\n",
    "            order_path = os.path.join(target_path, order)\n",
    "            if not os.path.exists(order_path):\n",
    "                os.makedirs(order_path)\n",
    "            for i in range(0, 105, 5):\n",
    "                percentage_path = os.path.join(order_path, str(i))\n",
    "                if not os.path.exists(percentage_path):\n",
    "                    os.makedirs(percentage_path)\n",
    "                v1 = order.split('_')[-1]\n",
    "                v2 = str(i)\n",
    "                if number != 0:\n",
    "                    for index in range(number):\n",
    "                        origin_path = f'benchmarks/inst{v1}_{v2}_{index}.txt'\n",
    "                        shell = f'cp {origin_path} {percentage_path}'\n",
    "                        # print(shell)\n",
    "                        os.system(shell)\n",
    "\n",
    "    def get_CP_benchmarks(self, path='benchmarks_CP_part'):\n",
    "        order_list = os.listdir(path)\n",
    "        for order in order_list:\n",
    "            order_path = os.path.join(path, order)\n",
    "            for i in range(0, 105, 5):\n",
    "                percentage_path = os.path.join(order_path, str(i))\n",
    "                file_list = os.listdir(percentage_path)\n",
    "                for file in file_list:\n",
    "                    file_path = os.path.join(percentage_path, file)\n",
    "                    target_path = file_path.split('.')[0] + '.dzn'\n",
    "                    shell = f'mv {file_path} {target_path}'\n",
    "                    os.system(shell)\n",
    "                    lines = []\n",
    "                    with open(target_path) as f:\n",
    "                        lines = f.readlines()\n",
    "                    order = int(lines[0][:-1])\n",
    "                    \n",
    "                    lines[0] = f'S={str(order)};\\n'\n",
    "                    lines[1] = 'start=[|\\n'\n",
    "                    for i in range(order*order-1):\n",
    "                        lines[i+2] = lines[i+2].strip('\\t\\n').replace('\\t', ',\\t') + '|\\n'\n",
    "                    lines[-1] = lines[-1].strip('\\t\\n').replace('\\t', ',\\t') + '|];\\n'\n",
    "                    with open(target_path, 'w') as f:\n",
    "                        f.writelines(lines)\n",
    "    \n",
    "    def get_SMT_benchmarks(self, path='benchmarks_part'):\n",
    "        shell = f'rm -rf benchmarks_SAT'\n",
    "        os.system(shell)\n",
    "        shell = f'cp -rf {path} benchmarks_SAT'\n",
    "        os.system(shell)\n",
    "        order_list = os.listdir('benchmarks_SAT')\n",
    "        for order in order_list:\n",
    "            order_path = os.path.join('benchmarks_SAT', order)\n",
    "            origin_path = ''\n",
    "            for percentage in tqdm(range(0, 105, 5), desc=order_path):\n",
    "                percentage_path = os.path.join(order_path, str(percentage))\n",
    "                file_list = os.listdir(percentage_path)\n",
    "                for file in file_list:\n",
    "                    if percentage == 0:\n",
    "                        file_path = os.path.join(percentage_path, file)\n",
    "                        target_path = file_path.split('.')[0] + '.smt2'\n",
    "                        origin_path = target_path\n",
    "                        shell = f'mv {file_path} {target_path}'\n",
    "                        os.system(shell)\n",
    "                        lines = []\n",
    "                        with open(target_path) as f:\n",
    "                            lines = f.readlines()\n",
    "                        order = int(lines[0][:-1])\n",
    "                        n = order*order\n",
    "                        \n",
    "                        A = []\n",
    "                        for i in range(n):\n",
    "                            A.append(lines[i+2].strip('\\t\\n').split('\\t'))\n",
    "                        X = [ [ [ Bool(\"x_%s_%s_%s\" % (i+1, j+1, v+1)) for v in range(n) ] for j in range(n) ] for i in range(n) ]\n",
    "                        domain_c = []\n",
    "                        for i in range(n):\n",
    "                            for j in range(n):\n",
    "                                domain_c += [ AtMost(*[X[i][j][v] for v in range(n)], 1) ]\n",
    "                                domain_c += [ AtLeast(*[X[i][j][v] for v in range(n)], 1) ] \n",
    "                        dists_c = []\n",
    "                        for i in range(n):\n",
    "                            for v in range(n):\n",
    "                                dists_c += [ AtMost(*[X[i][j][v] for j in range(n)], 1) ]\n",
    "                                dists_c += [ AtLeast(*[X[i][j][v] for j in range(n)], 1) ]\n",
    "                        for j in range(n):\n",
    "                            for v in range(n):\n",
    "                                dists_c += [ AtMost(*[X[i][j][v] for i in range(n)], 1) ]\n",
    "                                dists_c += [ AtLeast(*[X[i][j][v] for i in range(n)], 1) ]\n",
    "                        for x in range(order):\n",
    "                            for y in range(order):\n",
    "                                for v in range(n):\n",
    "                                    dists_c += [ AtMost(*[X[x*order + x1][y*order + y1][v] for x1 in range(order) for y1 in range(order)], 1) ]\n",
    "                                    dists_c += [ AtLeast(*[X[x*order + x1][y*order + y1][v] for x1 in range(order) for y1 in range(order)], 1) ]\n",
    "                        \n",
    "                        sudoku_c = domain_c + dists_c\n",
    "                        s = Solver()\n",
    "                        s.add(sudoku_c)\n",
    "                        smt = s.to_smt2().split('\\n')\n",
    "                        smt = [i+'\\n' for i in smt]\n",
    "                        with open(target_path, 'w') as f:\n",
    "                            f.writelines(smt)\n",
    "                \n",
    "                        use_path = file_path.split('.')[0] + '_use.smt2'\n",
    "                        shell = f'cp {target_path} {use_path}'\n",
    "                        os.system(shell)\n",
    "                        \n",
    "                    else:\n",
    "                        file_path = os.path.join(percentage_path, file)\n",
    "                        target_path = file_path.split('.')[0] + '.smt2'\n",
    "                        shell = f'mv {file_path} {target_path}'\n",
    "                        os.system(shell)\n",
    "                        shell = f'cp {origin_path} {target_path}'\n",
    "                        os.system(shell)\n",
    "                        use_path = file_path.split('.')[0] + '_use.smt2'\n",
    "                        shell = f'cp {target_path} {use_path}'\n",
    "                        os.system(shell)\n",
    "\n",
    "    def get_SAT_benchmarks(self, path='benchmarks'):\n",
    "        pass    \n",
    "\n",
    "    def get_info(self, path):\n",
    "        folder_list = os.listdir(path)\n",
    "        for folder in folder_list:\n",
    "            new_path = os.path.join(path, folder)\n",
    "            if os.path.isdir(new_path):\n",
    "                self.get_info(new_path)\n",
    "            else:\n",
    "                filename = new_path.split('/')[-1]\n",
    "                category = filename.split('_')[0]\n",
    "                percentage = filename.split('_')[1]\n",
    "                self.records.loc[len(self.records.index)] = [filename, category, percentage]\n",
    "        \n",
    "    def save_to(self, filename):\n",
    "        self.records.to_excel(filename)\n",
    "        \n",
    "    def arrange(self):\n",
    "        # for filename in tqdm(folder_list, desc=folder_path):\n",
    "        category_list = os.listdir(self.data_path)\n",
    "        for folder in category_list:\n",
    "            folder_path = os.path.join(self.data_path, folder)\n",
    "            file_list = os.listdir(folder_path)\n",
    "            for file in tqdm(file_list, desc=folder_path):\n",
    "                path = os.path.join(folder_path, file)\n",
    "                with open(path) as f:\n",
    "                    try:\n",
    "                        if self.solver == 'sudoku_acs':\n",
    "                            while f.readline():\n",
    "                                result = f.readline()[:-1]\n",
    "                                if result == '0':\n",
    "                                    result = 'sat'\n",
    "                                elif result == '1':\n",
    "                                    result = 'timeout'\n",
    "                                time = f.readline()[:-1]\n",
    "                                if result == 'timeout':\n",
    "                                    time = '1000.000000'\n",
    "                                info = f.readline()\n",
    "                                # time = info.split(' : ')[-1][:-5]\n",
    "                                name = info.split(' : ')[0].split('/')[-1]\n",
    "                                # print(name)\n",
    "                                self.records.loc[self.records['filename'] == name, ['result_' + self.solver, 'time_' + self.solver]] = [result, float(time)]\n",
    "                        elif self.solver == 'sudoku_test':\n",
    "                            while f.readline():\n",
    "                                info = f.readline()[:-1]\n",
    "                                result = 'timeout'\n",
    "                                time = '1000.000000'\n",
    "                                name = info.split(' ')[0].split('/')[-1]\n",
    "                                if 'find answer' in info:\n",
    "                                    result = 'sat'\n",
    "                                    time = info.split(': ')[-1]\n",
    "                                    f.readline()\n",
    "                                # print(name)\n",
    "                                self.records.loc[self.records['filename'] == name, ['result_' + self.solver, 'time_' + self.solver]] = [result, float(time)]\n",
    "                        elif self.solver == 'sudoku_lsc':\n",
    "                            while f.readline():\n",
    "                                info = f.readline()[:-1]\n",
    "                                result = 'timeout'\n",
    "                                time = '1000.000000'\n",
    "                                name = info.split(' ')[0].split('/')[-1]\n",
    "                                if 'find answer' in info:\n",
    "                                    result = 'sat'\n",
    "                                    time = info.split(': ')[-1]\n",
    "                                    f.readline()\n",
    "                                # print(name)\n",
    "                                self.records.loc[self.records['filename'] == name, ['result_' + self.solver, 'time_' + self.solver]] = [result, float(time)]\n",
    "                        elif self.solver == 'sudoku_csp':\n",
    "                            while f.readline():\n",
    "                                result = f.readline()[:-1]\n",
    "                                time = '1000.000000'\n",
    "                                if result[:3] == 'SAT':\n",
    "                                    result = 'sat'\n",
    "                                    f.readline()\n",
    "                                elif result[:3] == '===':\n",
    "                                    result = 'timeout'\n",
    "                                info = f.readline()\n",
    "                                if result == 'sat':\n",
    "                                    time = int(info.split(' : ')[-1].split(' ')[0]) / 1000.0\n",
    "                                name = info.split(' : ')[0].split('/')[-1].split('.')[0] + '.txt'\n",
    "                                self.records.loc[self.records['filename'] == name, ['result_' + self.solver, 'time_' + self.solver]] = [result, float(time)]\n",
    "                        elif self.solver == 'sudoku_sat':\n",
    "                            while f.readline():\n",
    "                                info = ''\n",
    "                                result = f.readline()[:-1]\n",
    "                                time = '1000.000000'\n",
    "                                if result[:3] == 's S':\n",
    "                                    result = 'sat'\n",
    "                                    info = f.readline()\n",
    "                                else:\n",
    "                                    info = result\n",
    "                                    result = 'timeout'\n",
    "                                if result == 'sat':\n",
    "                                    time = int(info.split(' : ')[-1].split(' ')[0]) / 1000.0\n",
    "                                name = info.split(' : ')[0].split('/')[-1].split('.')[0] + '.txt'\n",
    "                                self.records.loc[self.records['filename'] == name, ['result_' + self.solver, 'time_' + self.solver]] = [result, float(time)]\n",
    "                    except:\n",
    "                        print(path)\n",
    "   "
   ]
  },
  {
   "cell_type": "markdown",
   "metadata": {},
   "source": [
    "初始时，生成未填充的sudoku，用于求解得到完全填充的sudoku"
   ]
  },
  {
   "cell_type": "code",
   "execution_count": null,
   "metadata": {},
   "outputs": [],
   "source": [
    "# a = sudoku()\n",
    "# a.get_empty_benchmarks()"
   ]
  },
  {
   "cell_type": "markdown",
   "metadata": {},
   "source": [
    "初始时，由完全填充的sudoku，删除部分值得到部分填充的benchmarks"
   ]
  },
  {
   "cell_type": "code",
   "execution_count": null,
   "metadata": {},
   "outputs": [],
   "source": [
    "# a = sudoku(opt_path='/INST_81x81/100')\n",
    "# for i in range(0, 100, 5):\n",
    "#     a.get_benchmarks(percentage=i)"
   ]
  },
  {
   "cell_type": "markdown",
   "metadata": {},
   "source": [
    "获取部分benchmarks（每个类型只有部分文件）用于测试"
   ]
  },
  {
   "cell_type": "code",
   "execution_count": null,
   "metadata": {},
   "outputs": [],
   "source": [
    "a = sudoku()\n",
    "a.get_part_benchmarks(number=0,target_path='benchmarks_SAT')\n",
    "# for i in range(0, 105, 5):\n",
    "#     print(i)"
   ]
  },
  {
   "cell_type": "markdown",
   "metadata": {},
   "source": [
    "获取用于CP的benchmarks"
   ]
  },
  {
   "cell_type": "code",
   "execution_count": null,
   "metadata": {},
   "outputs": [],
   "source": [
    "a = sudoku()\n",
    "a.get_CP_benchmarks(path='benchmarks_part_CP')"
   ]
  },
  {
   "cell_type": "markdown",
   "metadata": {},
   "source": [
    "获取用于SAT的benchmarks"
   ]
  },
  {
   "cell_type": "code",
   "execution_count": null,
   "metadata": {},
   "outputs": [],
   "source": [
    "a = sudoku()\n",
    "a.get_SAT_benchmarks(path='benchmarks_part')"
   ]
  },
  {
   "cell_type": "markdown",
   "metadata": {},
   "source": [
    "初始化表格"
   ]
  },
  {
   "cell_type": "code",
   "execution_count": null,
   "metadata": {},
   "outputs": [],
   "source": [
    "a = sudoku(init=True)\n",
    "a.save_to('charts/base.xlsx')"
   ]
  },
  {
   "cell_type": "markdown",
   "metadata": {},
   "source": [
    "sudoku_lsc 生成表格"
   ]
  },
  {
   "cell_type": "code",
   "execution_count": 3,
   "metadata": {},
   "outputs": [
    {
     "data": {
      "application/vnd.jupyter.widget-view+json": {
       "model_id": "b1c6beca44c940118df27304b8ac6790",
       "version_major": 2,
       "version_minor": 0
      },
      "text/plain": [
       "results/sudoku_lsc/INST_49x49:   0%|          | 0/21 [00:00<?, ?it/s]"
      ]
     },
     "metadata": {},
     "output_type": "display_data"
    },
    {
     "data": {
      "application/vnd.jupyter.widget-view+json": {
       "model_id": "fddcbb7e30d4497693a7022db8232236",
       "version_major": 2,
       "version_minor": 0
      },
      "text/plain": [
       "results/sudoku_lsc/INST_9x9:   0%|          | 0/21 [00:00<?, ?it/s]"
      ]
     },
     "metadata": {},
     "output_type": "display_data"
    },
    {
     "data": {
      "application/vnd.jupyter.widget-view+json": {
       "model_id": "d7c5398008544005af0600c5231e0603",
       "version_major": 2,
       "version_minor": 0
      },
      "text/plain": [
       "results/sudoku_lsc/INST_36x36:   0%|          | 0/21 [00:00<?, ?it/s]"
      ]
     },
     "metadata": {},
     "output_type": "display_data"
    },
    {
     "data": {
      "application/vnd.jupyter.widget-view+json": {
       "model_id": "6aabe4b69292458285c96ef2cc2de5a0",
       "version_major": 2,
       "version_minor": 0
      },
      "text/plain": [
       "results/sudoku_lsc/INST_81x81:   0%|          | 0/21 [00:00<?, ?it/s]"
      ]
     },
     "metadata": {},
     "output_type": "display_data"
    },
    {
     "data": {
      "application/vnd.jupyter.widget-view+json": {
       "model_id": "56a6186077a14535a4d8bff2af7bb288",
       "version_major": 2,
       "version_minor": 0
      },
      "text/plain": [
       "results/sudoku_lsc/INST_64x64:   0%|          | 0/21 [00:00<?, ?it/s]"
      ]
     },
     "metadata": {},
     "output_type": "display_data"
    },
    {
     "data": {
      "application/vnd.jupyter.widget-view+json": {
       "model_id": "bc5b131493764b939890f56daa84d41a",
       "version_major": 2,
       "version_minor": 0
      },
      "text/plain": [
       "results/sudoku_lsc/INST_16x16:   0%|          | 0/21 [00:00<?, ?it/s]"
      ]
     },
     "metadata": {},
     "output_type": "display_data"
    },
    {
     "data": {
      "application/vnd.jupyter.widget-view+json": {
       "model_id": "c0d9486325de453a86224978fd581405",
       "version_major": 2,
       "version_minor": 0
      },
      "text/plain": [
       "results/sudoku_lsc/INST_25x25:   0%|          | 0/21 [00:00<?, ?it/s]"
      ]
     },
     "metadata": {},
     "output_type": "display_data"
    }
   ],
   "source": [
    "b = sudoku(solver='sudoku_lsc')\n",
    "b.arrange()\n",
    "b.save_to('charts/sudoku_lsc.xlsx')"
   ]
  },
  {
   "cell_type": "markdown",
   "metadata": {},
   "source": [
    "sudoku_acs 生成表格"
   ]
  },
  {
   "cell_type": "code",
   "execution_count": 4,
   "metadata": {},
   "outputs": [
    {
     "data": {
      "application/vnd.jupyter.widget-view+json": {
       "model_id": "eb50959eb9e14fb3aa81bdedcaa67e7f",
       "version_major": 2,
       "version_minor": 0
      },
      "text/plain": [
       "results/sudoku_acs/INST_49x49:   0%|          | 0/21 [00:00<?, ?it/s]"
      ]
     },
     "metadata": {},
     "output_type": "display_data"
    },
    {
     "data": {
      "application/vnd.jupyter.widget-view+json": {
       "model_id": "19ccc19402254324a050839d6349aa01",
       "version_major": 2,
       "version_minor": 0
      },
      "text/plain": [
       "results/sudoku_acs/INST_9x9:   0%|          | 0/21 [00:00<?, ?it/s]"
      ]
     },
     "metadata": {},
     "output_type": "display_data"
    },
    {
     "data": {
      "application/vnd.jupyter.widget-view+json": {
       "model_id": "ea6b4409fb3646b89251e54866436da3",
       "version_major": 2,
       "version_minor": 0
      },
      "text/plain": [
       "results/sudoku_acs/INST_36x36:   0%|          | 0/21 [00:00<?, ?it/s]"
      ]
     },
     "metadata": {},
     "output_type": "display_data"
    },
    {
     "data": {
      "application/vnd.jupyter.widget-view+json": {
       "model_id": "e674587b72394123b9d3afc5edd06f31",
       "version_major": 2,
       "version_minor": 0
      },
      "text/plain": [
       "results/sudoku_acs/INST_81x81:   0%|          | 0/21 [00:00<?, ?it/s]"
      ]
     },
     "metadata": {},
     "output_type": "display_data"
    },
    {
     "name": "stdout",
     "output_type": "stream",
     "text": [
      "results/sudoku_acs/INST_81x81/result_40.log\n",
      "results/sudoku_acs/INST_81x81/result_15.log\n",
      "results/sudoku_acs/INST_81x81/result_45.log\n",
      "results/sudoku_acs/INST_81x81/result_90.log\n",
      "results/sudoku_acs/INST_81x81/result_80.log\n",
      "results/sudoku_acs/INST_81x81/result_85.log\n",
      "results/sudoku_acs/INST_81x81/result_25.log\n",
      "results/sudoku_acs/INST_81x81/result_95.log\n",
      "results/sudoku_acs/INST_81x81/result_65.log\n",
      "results/sudoku_acs/INST_81x81/result_30.log\n",
      "results/sudoku_acs/INST_81x81/result_10.log\n",
      "results/sudoku_acs/INST_81x81/result_50.log\n",
      "results/sudoku_acs/INST_81x81/result_5.log\n",
      "results/sudoku_acs/INST_81x81/result_70.log\n",
      "results/sudoku_acs/INST_81x81/result_60.log\n",
      "results/sudoku_acs/INST_81x81/result_75.log\n",
      "results/sudoku_acs/INST_81x81/result_55.log\n",
      "results/sudoku_acs/INST_81x81/result_20.log\n",
      "results/sudoku_acs/INST_81x81/result_100.log\n",
      "results/sudoku_acs/INST_81x81/result_35.log\n",
      "results/sudoku_acs/INST_81x81/result_0.log\n"
     ]
    },
    {
     "data": {
      "application/vnd.jupyter.widget-view+json": {
       "model_id": "899bcbb36cb147608248fdcbc77bf7f3",
       "version_major": 2,
       "version_minor": 0
      },
      "text/plain": [
       "results/sudoku_acs/INST_64x64:   0%|          | 0/21 [00:00<?, ?it/s]"
      ]
     },
     "metadata": {},
     "output_type": "display_data"
    },
    {
     "data": {
      "application/vnd.jupyter.widget-view+json": {
       "model_id": "d198d8572a764e29b12dfeca435593dc",
       "version_major": 2,
       "version_minor": 0
      },
      "text/plain": [
       "results/sudoku_acs/INST_16x16:   0%|          | 0/21 [00:00<?, ?it/s]"
      ]
     },
     "metadata": {},
     "output_type": "display_data"
    },
    {
     "data": {
      "application/vnd.jupyter.widget-view+json": {
       "model_id": "03e01b5fb8154ea7aacc837a283d490e",
       "version_major": 2,
       "version_minor": 0
      },
      "text/plain": [
       "results/sudoku_acs/INST_25x25:   0%|          | 0/21 [00:00<?, ?it/s]"
      ]
     },
     "metadata": {},
     "output_type": "display_data"
    }
   ],
   "source": [
    "c = sudoku(solver='sudoku_acs', execl='charts/sudoku_lsc.xlsx')\n",
    "c.arrange()\n",
    "c.save_to('charts/sudoku_acs.xlsx')"
   ]
  },
  {
   "cell_type": "markdown",
   "metadata": {},
   "source": [
    "sudoku_csp 生成表格"
   ]
  },
  {
   "cell_type": "code",
   "execution_count": 5,
   "metadata": {},
   "outputs": [
    {
     "data": {
      "application/vnd.jupyter.widget-view+json": {
       "model_id": "c00216cdfbf642fd9df24d5b4f136bad",
       "version_major": 2,
       "version_minor": 0
      },
      "text/plain": [
       "results/sudoku_csp/INST_49x49:   0%|          | 0/21 [00:00<?, ?it/s]"
      ]
     },
     "metadata": {},
     "output_type": "display_data"
    },
    {
     "data": {
      "application/vnd.jupyter.widget-view+json": {
       "model_id": "11771a126a0642539289a2d4db5594c6",
       "version_major": 2,
       "version_minor": 0
      },
      "text/plain": [
       "results/sudoku_csp/INST_9x9:   0%|          | 0/21 [00:00<?, ?it/s]"
      ]
     },
     "metadata": {},
     "output_type": "display_data"
    },
    {
     "data": {
      "application/vnd.jupyter.widget-view+json": {
       "model_id": "04730f5a7f254d3bac117a54c9aff99c",
       "version_major": 2,
       "version_minor": 0
      },
      "text/plain": [
       "results/sudoku_csp/INST_36x36:   0%|          | 0/21 [00:00<?, ?it/s]"
      ]
     },
     "metadata": {},
     "output_type": "display_data"
    },
    {
     "data": {
      "application/vnd.jupyter.widget-view+json": {
       "model_id": "13da959186c7479b90492af7b66e1e58",
       "version_major": 2,
       "version_minor": 0
      },
      "text/plain": [
       "results/sudoku_csp/INST_81x81:   0%|          | 0/21 [00:00<?, ?it/s]"
      ]
     },
     "metadata": {},
     "output_type": "display_data"
    },
    {
     "data": {
      "application/vnd.jupyter.widget-view+json": {
       "model_id": "7d8ba737cb0d4f32b3a44f9a49163d00",
       "version_major": 2,
       "version_minor": 0
      },
      "text/plain": [
       "results/sudoku_csp/INST_64x64:   0%|          | 0/21 [00:00<?, ?it/s]"
      ]
     },
     "metadata": {},
     "output_type": "display_data"
    },
    {
     "data": {
      "application/vnd.jupyter.widget-view+json": {
       "model_id": "c4bf64fbacb04c71a5d3ed23f94b935b",
       "version_major": 2,
       "version_minor": 0
      },
      "text/plain": [
       "results/sudoku_csp/INST_16x16:   0%|          | 0/21 [00:00<?, ?it/s]"
      ]
     },
     "metadata": {},
     "output_type": "display_data"
    },
    {
     "data": {
      "application/vnd.jupyter.widget-view+json": {
       "model_id": "37c0e3dc0e24417bac41dd2757bd7688",
       "version_major": 2,
       "version_minor": 0
      },
      "text/plain": [
       "results/sudoku_csp/INST_25x25:   0%|          | 0/21 [00:00<?, ?it/s]"
      ]
     },
     "metadata": {},
     "output_type": "display_data"
    }
   ],
   "source": [
    "c = sudoku(solver='sudoku_csp', execl='charts/sudoku_acs.xlsx')\n",
    "c.arrange()\n",
    "c.save_to('charts/sudoku_csp.xlsx')"
   ]
  },
  {
   "cell_type": "markdown",
   "metadata": {},
   "source": [
    "sudoku_sat 生成表格"
   ]
  },
  {
   "cell_type": "code",
   "execution_count": 6,
   "metadata": {},
   "outputs": [
    {
     "data": {
      "application/vnd.jupyter.widget-view+json": {
       "model_id": "eaea0b9ecbc3483d9f6dc4cca1c4f1c9",
       "version_major": 2,
       "version_minor": 0
      },
      "text/plain": [
       "results/sudoku_sat/INST_49x49:   0%|          | 0/21 [00:00<?, ?it/s]"
      ]
     },
     "metadata": {},
     "output_type": "display_data"
    },
    {
     "data": {
      "application/vnd.jupyter.widget-view+json": {
       "model_id": "db15820204f948bd840edc04ed97b4ab",
       "version_major": 2,
       "version_minor": 0
      },
      "text/plain": [
       "results/sudoku_sat/INST_9x9:   0%|          | 0/21 [00:00<?, ?it/s]"
      ]
     },
     "metadata": {},
     "output_type": "display_data"
    },
    {
     "data": {
      "application/vnd.jupyter.widget-view+json": {
       "model_id": "e5a386be8d19437c899628813edbfb61",
       "version_major": 2,
       "version_minor": 0
      },
      "text/plain": [
       "results/sudoku_sat/INST_36x36:   0%|          | 0/21 [00:00<?, ?it/s]"
      ]
     },
     "metadata": {},
     "output_type": "display_data"
    },
    {
     "data": {
      "application/vnd.jupyter.widget-view+json": {
       "model_id": "ec2b6ab7142743af85dbcabc46869414",
       "version_major": 2,
       "version_minor": 0
      },
      "text/plain": [
       "results/sudoku_sat/INST_64x64:   0%|          | 0/21 [00:00<?, ?it/s]"
      ]
     },
     "metadata": {},
     "output_type": "display_data"
    },
    {
     "data": {
      "application/vnd.jupyter.widget-view+json": {
       "model_id": "ab7519fcf6864529b9830558a87d2a4e",
       "version_major": 2,
       "version_minor": 0
      },
      "text/plain": [
       "results/sudoku_sat/INST_16x16:   0%|          | 0/21 [00:00<?, ?it/s]"
      ]
     },
     "metadata": {},
     "output_type": "display_data"
    },
    {
     "data": {
      "application/vnd.jupyter.widget-view+json": {
       "model_id": "01f3951ca98a461f9ff44629cde0f3b6",
       "version_major": 2,
       "version_minor": 0
      },
      "text/plain": [
       "results/sudoku_sat/INST_25x25:   0%|          | 0/21 [00:00<?, ?it/s]"
      ]
     },
     "metadata": {},
     "output_type": "display_data"
    }
   ],
   "source": [
    "c = sudoku(solver='sudoku_sat', execl='charts/sudoku_csp.xlsx')\n",
    "c.arrange()\n",
    "c.save_to('charts/sudoku_sat.xlsx')"
   ]
  },
  {
   "cell_type": "markdown",
   "metadata": {},
   "source": [
    "sudoku_test 生成表格"
   ]
  },
  {
   "cell_type": "code",
   "execution_count": 7,
   "metadata": {},
   "outputs": [
    {
     "data": {
      "application/vnd.jupyter.widget-view+json": {
       "model_id": "7f6fb4905eaf48fcbf76bed670077ba0",
       "version_major": 2,
       "version_minor": 0
      },
      "text/plain": [
       "results/sudoku_test/INST_49x49:   0%|          | 0/21 [00:00<?, ?it/s]"
      ]
     },
     "metadata": {},
     "output_type": "display_data"
    },
    {
     "data": {
      "application/vnd.jupyter.widget-view+json": {
       "model_id": "eb0ff149d60e491bb0b24eea7b292eb5",
       "version_major": 2,
       "version_minor": 0
      },
      "text/plain": [
       "results/sudoku_test/INST_9x9:   0%|          | 0/21 [00:00<?, ?it/s]"
      ]
     },
     "metadata": {},
     "output_type": "display_data"
    },
    {
     "data": {
      "application/vnd.jupyter.widget-view+json": {
       "model_id": "386f5a2cb19c4af8b3417b3f22f26f50",
       "version_major": 2,
       "version_minor": 0
      },
      "text/plain": [
       "results/sudoku_test/INST_36x36:   0%|          | 0/21 [00:00<?, ?it/s]"
      ]
     },
     "metadata": {},
     "output_type": "display_data"
    },
    {
     "data": {
      "application/vnd.jupyter.widget-view+json": {
       "model_id": "832dc3d71bc44a8c8562bf0e098695b3",
       "version_major": 2,
       "version_minor": 0
      },
      "text/plain": [
       "results/sudoku_test/INST_64x64:   0%|          | 0/21 [00:00<?, ?it/s]"
      ]
     },
     "metadata": {},
     "output_type": "display_data"
    },
    {
     "data": {
      "application/vnd.jupyter.widget-view+json": {
       "model_id": "01265fd181c341029d16fafa8bcb695e",
       "version_major": 2,
       "version_minor": 0
      },
      "text/plain": [
       "results/sudoku_test/INST_16x16:   0%|          | 0/21 [00:00<?, ?it/s]"
      ]
     },
     "metadata": {},
     "output_type": "display_data"
    },
    {
     "data": {
      "application/vnd.jupyter.widget-view+json": {
       "model_id": "45c2d3807c304ab6a5b936b0174bf700",
       "version_major": 2,
       "version_minor": 0
      },
      "text/plain": [
       "results/sudoku_test/INST_25x25:   0%|          | 0/21 [00:00<?, ?it/s]"
      ]
     },
     "metadata": {},
     "output_type": "display_data"
    }
   ],
   "source": [
    "c = sudoku(solver='sudoku_test', execl='charts/sudoku_sat.xlsx')\n",
    "c.arrange()\n",
    "c.save_to('charts/sudoku_test.xlsx')"
   ]
  }
 ],
 "metadata": {
  "kernelspec": {
   "display_name": "Python 3.9.12 ('base')",
   "language": "python",
   "name": "python3"
  },
  "language_info": {
   "codemirror_mode": {
    "name": "ipython",
    "version": 3
   },
   "file_extension": ".py",
   "mimetype": "text/x-python",
   "name": "python",
   "nbconvert_exporter": "python",
   "pygments_lexer": "ipython3",
   "version": "3.9.12"
  },
  "orig_nbformat": 4,
  "vscode": {
   "interpreter": {
    "hash": "b92a0254a30c2afbf0cf228538e1698f068dfe9bb515fbf9837b53b2177d9016"
   }
  }
 },
 "nbformat": 4,
 "nbformat_minor": 2
}
