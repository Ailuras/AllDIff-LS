{
 "cells": [
  {
   "cell_type": "code",
   "execution_count": 20,
   "metadata": {},
   "outputs": [],
   "source": [
    "import pandas as pd\n",
    "import os\n",
    "from tqdm.notebook import tqdm\n",
    "\n",
    "class AllDifferent:\n",
    "    \n",
    "    def __init__(self, init=False, solver='nqueens_ls', execl='../charts/base.xlsx', benchmarks='benchmarks'):\n",
    "        self.path = f'../results/{solver}'\n",
    "        self.solver = solver.split('_')[1]\n",
    "        self.records = pd.read_excel(execl, header=[0], index_col = [0])\n",
    "        if init:\n",
    "            # self.records = self.records.drop(index=self.records.index)\n",
    "            self.get_info(f'../{benchmarks}')\n",
    "            \n",
    "    def get_info(self, path):\n",
    "        folder_list = os.listdir(path)\n",
    "        for folder in folder_list:\n",
    "            new_path = os.path.join(path, folder)\n",
    "            if os.path.isdir(new_path):\n",
    "                self.get_info(new_path)\n",
    "            else:\n",
    "                filename = new_path.split('/')[-1]\n",
    "                category = new_path.split('/')[-2]\n",
    "                order = filename.split('.')[0].split('t')[1]\n",
    "                for times in range(1, 11):\n",
    "                    self.records.loc[len(self.records.index)] = [filename, category, order, times]\n",
    "        \n",
    "    def save_to(self, filename):\n",
    "        self.records.to_excel(filename)\n",
    "   \n",
    "    def arrange(self):\n",
    "        file_list = os.listdir(self.path)\n",
    "        for file in tqdm(file_list, desc=self.path):\n",
    "            path = os.path.join(self.path, file)\n",
    "            times = int(file.split('.')[0])\n",
    "            with open(path) as f:\n",
    "                try:\n",
    "                    if self.solver == 'ls':\n",
    "                        while f.readline():\n",
    "                            info = f.readline()[:-1]\n",
    "                            result = 'timeout'\n",
    "                            time = '1000.000000'\n",
    "                            name = info.split(' ')[0].split('/')[-1]\n",
    "                            if 'find answer' in info:\n",
    "                                result = 'sat'\n",
    "                                time = info.split(': ')[-1]\n",
    "                                info = f.readline()\n",
    "                                name = info.split(' ')[0].split('/')[-1]\n",
    "                            # self.records.loc[self.records['filename'] == name and self.records['times'] == times, ['result_' + self.solver, 'time_' + self.solver]] = [result, float(time)]\n",
    "                            self.records.loc[(self.records['filename'] == name) & (self.records['times'] == times), ['result_' + self.solver, 'time_' + self.solver]] = [result, float(time)]\n",
    "                    elif self.solver == 'cpl':\n",
    "                        while f.readline():\n",
    "                            info = f.readline()[:-1]\n",
    "                            result = 'timeout'\n",
    "                            time = '1000.000000'\n",
    "                            if info == 'SAT':\n",
    "                                result = 'sat'\n",
    "                                info = f.readline()\n",
    "                                time = int(info.split(' : ')[-1].split(' ')[0]) / 1000.0\n",
    "                            name = info.split(' ')[0].split('/')[-1]\n",
    "                            self.records.loc[(self.records['filename'] == name) & (self.records['times'] == times), ['result_' + self.solver, 'time_' + self.solver]] = [result, float(time)]\n",
    "                    elif self.solver == 'csp':\n",
    "                        while f.readline():\n",
    "                            info = ''\n",
    "                            result = f.readline()[:-1]\n",
    "                            time = '1000.000000'\n",
    "                            if result[:3] == 's S':\n",
    "                                result = 'sat'\n",
    "                                info = f.readline()\n",
    "                            else:\n",
    "                                info = result\n",
    "                                result = 'timeout'\n",
    "                            if result == 'sat':\n",
    "                                time = int(info.split(' : ')[-1].split(' ')[0]) / 1000.0\n",
    "                            name = info.split(' : ')[0].split('/')[-1].split('.')[0] + '.txt'\n",
    "                            self.records.loc[self.records['filename'] == name, ['result_' + self.solver, 'time_' + self.solver]] = [result, float(time)]\n",
    "                except:\n",
    "                    print(path)"
   ]
  },
  {
   "cell_type": "markdown",
   "metadata": {},
   "source": [
    "初始化表格"
   ]
  },
  {
   "cell_type": "code",
   "execution_count": 2,
   "metadata": {},
   "outputs": [],
   "source": [
    "a = AllDifferent(init=True, benchmarks='benchmarks')\n",
    "a.save_to('../charts/base.xlsx')\n",
    "# a = nqueens(init=True, benchmarks='benchmarks_0')\n",
    "# a.save_to('../charts/base.xlsx')\n",
    "# a = nqueens(init=True, benchmarks='benchmarks_1')\n",
    "# a.save_to('../charts/base.xlsx')\n",
    "# a = nqueens(init=True, benchmarks='benchmarks_2')\n",
    "# a.save_to('../charts/base.xlsx')\n",
    "# a = nqueens(init=True, benchmarks='benchmarks_3')\n",
    "# a.save_to('../charts/base.xlsx')"
   ]
  },
  {
   "attachments": {},
   "cell_type": "markdown",
   "metadata": {},
   "source": [
    "nqueens_ls 生成表格"
   ]
  },
  {
   "cell_type": "code",
   "execution_count": 21,
   "metadata": {},
   "outputs": [
    {
     "data": {
      "application/vnd.jupyter.widget-view+json": {
       "model_id": "4c8c5393d50747988ab5a106dad59565",
       "version_major": 2,
       "version_minor": 0
      },
      "text/plain": [
       "../results/nqueens_ls:   0%|          | 0/10 [00:00<?, ?it/s]"
      ]
     },
     "metadata": {},
     "output_type": "display_data"
    },
    {
     "data": {
      "application/vnd.jupyter.widget-view+json": {
       "model_id": "5fbfa983e3214fc4a454eee9a5ea5a91",
       "version_major": 2,
       "version_minor": 0
      },
      "text/plain": [
       "../results/nqueens_cpl:   0%|          | 0/10 [00:00<?, ?it/s]"
      ]
     },
     "metadata": {},
     "output_type": "display_data"
    },
    {
     "data": {
      "application/vnd.jupyter.widget-view+json": {
       "model_id": "b72e4b5641814721a65e4a754795864e",
       "version_major": 2,
       "version_minor": 0
      },
      "text/plain": [
       "../results/MOLS_ls:   0%|          | 0/10 [00:00<?, ?it/s]"
      ]
     },
     "metadata": {},
     "output_type": "display_data"
    },
    {
     "data": {
      "application/vnd.jupyter.widget-view+json": {
       "model_id": "ebc1ec4eaeaa461da1bf609f0fce65a8",
       "version_major": 2,
       "version_minor": 0
      },
      "text/plain": [
       "../results/MOLS_cpl:   0%|          | 0/10 [00:00<?, ?it/s]"
      ]
     },
     "metadata": {},
     "output_type": "display_data"
    }
   ],
   "source": [
    "c = AllDifferent(solver='nqueens_ls', execl='../charts/base.xlsx')\n",
    "c.arrange()\n",
    "c.save_to('../charts/1.xlsx')\n",
    "c = AllDifferent(solver='nqueens_cpl', execl='../charts/1.xlsx')\n",
    "c.arrange()\n",
    "c.save_to('../charts/2.xlsx')\n",
    "c = AllDifferent(solver='MOLS_ls', execl='../charts/2.xlsx')\n",
    "c.arrange()\n",
    "c.save_to('../charts/3.xlsx')\n",
    "c = AllDifferent(solver='MOLS_cpl', execl='../charts/3.xlsx')\n",
    "c.arrange()\n",
    "c.save_to('../charts/4.xlsx')"
   ]
  },
  {
   "attachments": {},
   "cell_type": "markdown",
   "metadata": {},
   "source": [
    "nqueens_ort 生成表格"
   ]
  },
  {
   "cell_type": "code",
   "execution_count": null,
   "metadata": {},
   "outputs": [],
   "source": [
    "c = AllDifferent(solver='nqueens_ort', execl='../charts/1.xlsx')\n",
    "c.arrange()\n",
    "c.save_to('../charts/2.xlsx')"
   ]
  }
 ],
 "metadata": {
  "kernelspec": {
   "display_name": "Python 3 (ipykernel)",
   "language": "python",
   "name": "python3"
  },
  "language_info": {
   "codemirror_mode": {
    "name": "ipython",
    "version": 3
   },
   "file_extension": ".py",
   "mimetype": "text/x-python",
   "name": "python",
   "nbconvert_exporter": "python",
   "pygments_lexer": "ipython3",
   "version": "3.9.12"
  },
  "orig_nbformat": 4,
  "vscode": {
   "interpreter": {
    "hash": "b92a0254a30c2afbf0cf228538e1698f068dfe9bb515fbf9837b53b2177d9016"
   }
  }
 },
 "nbformat": 4,
 "nbformat_minor": 2
}
