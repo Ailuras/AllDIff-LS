{
 "cells": [
  {
   "cell_type": "code",
   "execution_count": 5,
   "metadata": {},
   "outputs": [],
   "source": [
    "import pandas as pd\n",
    "import os\n",
    "from tqdm.notebook import tqdm\n",
    "\n",
    "class nqueens:\n",
    "    \n",
    "    def __init__(self, init=False, solver='nqueens_ls', execl='../charts/base.xlsx', benchmarks='benchmarks'):\n",
    "        self.path = f'../results/{solver}'\n",
    "        self.solver = solver\n",
    "        self.records = pd.read_excel(execl, header=[0], index_col = [0])\n",
    "        if init:\n",
    "            # self.records = self.records.drop(index=self.records.index)\n",
    "            self.get_info(f'../{benchmarks}/N-Queens/')\n",
    "            \n",
    "    def get_info(self, path):\n",
    "        folder_list = os.listdir(path)\n",
    "        for folder in folder_list:\n",
    "            new_path = os.path.join(path, folder)\n",
    "            if os.path.isdir(new_path):\n",
    "                self.get_info(new_path)\n",
    "            else:\n",
    "                filename = new_path.split('/')[-1]\n",
    "                category = filename.split('_')[0]\n",
    "                percentage = filename.split('_')[1]\n",
    "                self.records.loc[len(self.records.index)] = [filename, category, percentage]\n",
    "        \n",
    "    def save_to(self, filename):\n",
    "        self.records.to_excel(filename)\n",
    "        \n",
    "    def arrange(self):\n",
    "        category_list = os.listdir(self.path)\n",
    "        for folder in category_list:\n",
    "            folder_path = os.path.join(self.path, folder)\n",
    "            file_list = os.listdir(folder_path)\n",
    "            for file in tqdm(file_list, desc=folder_path):\n",
    "                path = os.path.join(folder_path, file)\n",
    "                with open(path) as f:\n",
    "                    try:\n",
    "                        if self.solver == 'nqueens_ls':\n",
    "                            while f.readline():\n",
    "                                info = f.readline()[:-1]\n",
    "                                result = 'timeout'\n",
    "                                time = '1000.000000'\n",
    "                                name = info.split(' ')[0].split('/')[-1]\n",
    "                                if 'find answer' in info:\n",
    "                                    result = 'sat'\n",
    "                                    time = info.split(': ')[-1]\n",
    "                                    f.readline()\n",
    "                                # print(name)\n",
    "                                self.records.loc[self.records['filename'] == name, ['result_' + self.solver, 'time_' + self.solver]] = [result, float(time)]\n",
    "                        elif self.solver == 'nqueens_ort':\n",
    "                            while f.readline():\n",
    "                                info = f.readline()[:-1]\n",
    "                                result = 'timeout'\n",
    "                                time = '1000.000000'\n",
    "                                if info == 'SAT':\n",
    "                                    result = 'sat'\n",
    "                                    info = f.readline()\n",
    "                                    time = int(info.split(' : ')[-1].split(' ')[0]) / 1000.0\n",
    "                                name = info.split(' ')[0].split('/')[-1]\n",
    "                                self.records.loc[self.records['filename'] == name, ['result_' + self.solver, 'time_' + self.solver]] = [result, float(time)]\n",
    "                        elif self.solver == 'nqueens_sat':\n",
    "                            while f.readline():\n",
    "                                info = ''\n",
    "                                result = f.readline()[:-1]\n",
    "                                time = '1000.000000'\n",
    "                                if result[:3] == 's S':\n",
    "                                    result = 'sat'\n",
    "                                    info = f.readline()\n",
    "                                else:\n",
    "                                    info = result\n",
    "                                    result = 'timeout'\n",
    "                                if result == 'sat':\n",
    "                                    time = int(info.split(' : ')[-1].split(' ')[0]) / 1000.0\n",
    "                                name = info.split(' : ')[0].split('/')[-1].split('.')[0] + '.txt'\n",
    "                                self.records.loc[self.records['filename'] == name, ['result_' + self.solver, 'time_' + self.solver]] = [result, float(time)]\n",
    "                    except:\n",
    "                        print(path)"
   ]
  },
  {
   "cell_type": "markdown",
   "metadata": {},
   "source": [
    "初始化表格"
   ]
  },
  {
   "cell_type": "code",
   "execution_count": 6,
   "metadata": {},
   "outputs": [],
   "source": [
    "a = nqueens(init=True, benchmarks='benchmarks')\n",
    "a.save_to('../charts/base.xlsx')\n",
    "# a = nqueens(init=True, benchmarks='benchmarks_0')\n",
    "# a.save_to('../charts/base.xlsx')\n",
    "# a = nqueens(init=True, benchmarks='benchmarks_1')\n",
    "# a.save_to('../charts/base.xlsx')\n",
    "# a = nqueens(init=True, benchmarks='benchmarks_2')\n",
    "# a.save_to('../charts/base.xlsx')\n",
    "# a = nqueens(init=True, benchmarks='benchmarks_3')\n",
    "# a.save_to('../charts/base.xlsx')"
   ]
  },
  {
   "attachments": {},
   "cell_type": "markdown",
   "metadata": {},
   "source": [
    "nqueens_ls 生成表格"
   ]
  },
  {
   "cell_type": "code",
   "execution_count": 7,
   "metadata": {},
   "outputs": [
    {
     "data": {
      "application/vnd.jupyter.widget-view+json": {
       "model_id": "8a4b45f652694b049f07136eaaa33dcb",
       "version_major": 2,
       "version_minor": 0
      },
      "text/plain": [
       "../results/nqueens_ls/INST_1400:   0%|          | 0/11 [00:00<?, ?it/s]"
      ]
     },
     "metadata": {},
     "output_type": "display_data"
    },
    {
     "data": {
      "application/vnd.jupyter.widget-view+json": {
       "model_id": "cb95bed3cd164ba598a72f6cf274f529",
       "version_major": 2,
       "version_minor": 0
      },
      "text/plain": [
       "../results/nqueens_ls/INST_2000:   0%|          | 0/11 [00:00<?, ?it/s]"
      ]
     },
     "metadata": {},
     "output_type": "display_data"
    },
    {
     "data": {
      "application/vnd.jupyter.widget-view+json": {
       "model_id": "24ddd7e5cbb54c39ae94aa3fb19a7d03",
       "version_major": 2,
       "version_minor": 0
      },
      "text/plain": [
       "../results/nqueens_ls/INST_800:   0%|          | 0/11 [00:00<?, ?it/s]"
      ]
     },
     "metadata": {},
     "output_type": "display_data"
    },
    {
     "data": {
      "application/vnd.jupyter.widget-view+json": {
       "model_id": "462874113fc143ce80dd60a390238f60",
       "version_major": 2,
       "version_minor": 0
      },
      "text/plain": [
       "../results/nqueens_ls/INST_1800:   0%|          | 0/11 [00:00<?, ?it/s]"
      ]
     },
     "metadata": {},
     "output_type": "display_data"
    },
    {
     "data": {
      "application/vnd.jupyter.widget-view+json": {
       "model_id": "075d11f932b14ade8ce93ac06148aa32",
       "version_major": 2,
       "version_minor": 0
      },
      "text/plain": [
       "../results/nqueens_ls/INST_1600:   0%|          | 0/11 [00:00<?, ?it/s]"
      ]
     },
     "metadata": {},
     "output_type": "display_data"
    },
    {
     "data": {
      "application/vnd.jupyter.widget-view+json": {
       "model_id": "5f5977e91b334ec19d3933a8f79ae8eb",
       "version_major": 2,
       "version_minor": 0
      },
      "text/plain": [
       "../results/nqueens_ls/INST_400:   0%|          | 0/11 [00:00<?, ?it/s]"
      ]
     },
     "metadata": {},
     "output_type": "display_data"
    },
    {
     "data": {
      "application/vnd.jupyter.widget-view+json": {
       "model_id": "0b7cd0aa956642a18a5ef3f05c642fb4",
       "version_major": 2,
       "version_minor": 0
      },
      "text/plain": [
       "../results/nqueens_ls/INST_200:   0%|          | 0/11 [00:00<?, ?it/s]"
      ]
     },
     "metadata": {},
     "output_type": "display_data"
    },
    {
     "data": {
      "application/vnd.jupyter.widget-view+json": {
       "model_id": "5983e9f8fc104c65a5b2550461ceff7c",
       "version_major": 2,
       "version_minor": 0
      },
      "text/plain": [
       "../results/nqueens_ls/INST_1200:   0%|          | 0/11 [00:00<?, ?it/s]"
      ]
     },
     "metadata": {},
     "output_type": "display_data"
    },
    {
     "data": {
      "application/vnd.jupyter.widget-view+json": {
       "model_id": "254bdcb749a2435d8a3f071de1692c8b",
       "version_major": 2,
       "version_minor": 0
      },
      "text/plain": [
       "../results/nqueens_ls/INST_600:   0%|          | 0/11 [00:00<?, ?it/s]"
      ]
     },
     "metadata": {},
     "output_type": "display_data"
    },
    {
     "data": {
      "application/vnd.jupyter.widget-view+json": {
       "model_id": "b8a9e70b7bad4979b823e2c0fb7fa9b9",
       "version_major": 2,
       "version_minor": 0
      },
      "text/plain": [
       "../results/nqueens_ls/INST_3000:   0%|          | 0/11 [00:00<?, ?it/s]"
      ]
     },
     "metadata": {},
     "output_type": "display_data"
    },
    {
     "data": {
      "application/vnd.jupyter.widget-view+json": {
       "model_id": "717c37fa2a4b4e0cb54e719afd4eeb7d",
       "version_major": 2,
       "version_minor": 0
      },
      "text/plain": [
       "../results/nqueens_ls/INST_2500:   0%|          | 0/11 [00:00<?, ?it/s]"
      ]
     },
     "metadata": {},
     "output_type": "display_data"
    },
    {
     "data": {
      "application/vnd.jupyter.widget-view+json": {
       "model_id": "39c74be602ab42d880bc51140c0ed474",
       "version_major": 2,
       "version_minor": 0
      },
      "text/plain": [
       "../results/nqueens_ls/INST_1500:   0%|          | 0/11 [00:00<?, ?it/s]"
      ]
     },
     "metadata": {},
     "output_type": "display_data"
    },
    {
     "data": {
      "application/vnd.jupyter.widget-view+json": {
       "model_id": "3b532d0cc09e41e884ec12a37b0f48f4",
       "version_major": 2,
       "version_minor": 0
      },
      "text/plain": [
       "../results/nqueens_ls/INST_500:   0%|          | 0/11 [00:00<?, ?it/s]"
      ]
     },
     "metadata": {},
     "output_type": "display_data"
    },
    {
     "data": {
      "application/vnd.jupyter.widget-view+json": {
       "model_id": "6bb335703de94d05806d2a27286fd917",
       "version_major": 2,
       "version_minor": 0
      },
      "text/plain": [
       "../results/nqueens_ls/INST_1000:   0%|          | 0/11 [00:00<?, ?it/s]"
      ]
     },
     "metadata": {},
     "output_type": "display_data"
    }
   ],
   "source": [
    "c = nqueens(solver='nqueens_ls', execl='../charts/base.xlsx')\n",
    "c.arrange()\n",
    "c.save_to('../charts/1.xlsx')"
   ]
  },
  {
   "attachments": {},
   "cell_type": "markdown",
   "metadata": {},
   "source": [
    "nqueens_ort 生成表格"
   ]
  },
  {
   "cell_type": "code",
   "execution_count": 8,
   "metadata": {},
   "outputs": [
    {
     "data": {
      "application/vnd.jupyter.widget-view+json": {
       "model_id": "d03f80afd49a44818ea93222d358ff9f",
       "version_major": 2,
       "version_minor": 0
      },
      "text/plain": [
       "../results/nqueens_ort/INST_1400:   0%|          | 0/11 [00:00<?, ?it/s]"
      ]
     },
     "metadata": {},
     "output_type": "display_data"
    },
    {
     "data": {
      "application/vnd.jupyter.widget-view+json": {
       "model_id": "202c6b9e8d0f40f591ae10540f0460e6",
       "version_major": 2,
       "version_minor": 0
      },
      "text/plain": [
       "../results/nqueens_ort/INST_2000:   0%|          | 0/11 [00:00<?, ?it/s]"
      ]
     },
     "metadata": {},
     "output_type": "display_data"
    },
    {
     "data": {
      "application/vnd.jupyter.widget-view+json": {
       "model_id": "5a22209f8d534f84955a16c568426b77",
       "version_major": 2,
       "version_minor": 0
      },
      "text/plain": [
       "../results/nqueens_ort/INST_800:   0%|          | 0/11 [00:00<?, ?it/s]"
      ]
     },
     "metadata": {},
     "output_type": "display_data"
    },
    {
     "data": {
      "application/vnd.jupyter.widget-view+json": {
       "model_id": "6542bab635124ec8930a3d85a3fc92ff",
       "version_major": 2,
       "version_minor": 0
      },
      "text/plain": [
       "../results/nqueens_ort/INST_1800:   0%|          | 0/11 [00:00<?, ?it/s]"
      ]
     },
     "metadata": {},
     "output_type": "display_data"
    },
    {
     "data": {
      "application/vnd.jupyter.widget-view+json": {
       "model_id": "1ae7a1b016834cba84e4fb0c9705e416",
       "version_major": 2,
       "version_minor": 0
      },
      "text/plain": [
       "../results/nqueens_ort/INST_1600:   0%|          | 0/11 [00:00<?, ?it/s]"
      ]
     },
     "metadata": {},
     "output_type": "display_data"
    },
    {
     "data": {
      "application/vnd.jupyter.widget-view+json": {
       "model_id": "a802e8a4104543ba9ee9ccd64ab075c3",
       "version_major": 2,
       "version_minor": 0
      },
      "text/plain": [
       "../results/nqueens_ort/INST_400:   0%|          | 0/11 [00:00<?, ?it/s]"
      ]
     },
     "metadata": {},
     "output_type": "display_data"
    },
    {
     "data": {
      "application/vnd.jupyter.widget-view+json": {
       "model_id": "ebec101d460d497ea27ebbfc39b0f8b3",
       "version_major": 2,
       "version_minor": 0
      },
      "text/plain": [
       "../results/nqueens_ort/INST_200:   0%|          | 0/11 [00:00<?, ?it/s]"
      ]
     },
     "metadata": {},
     "output_type": "display_data"
    },
    {
     "data": {
      "application/vnd.jupyter.widget-view+json": {
       "model_id": "0f9e08de8e7046f184e286726813cfd8",
       "version_major": 2,
       "version_minor": 0
      },
      "text/plain": [
       "../results/nqueens_ort/INST_1200:   0%|          | 0/11 [00:00<?, ?it/s]"
      ]
     },
     "metadata": {},
     "output_type": "display_data"
    },
    {
     "data": {
      "application/vnd.jupyter.widget-view+json": {
       "model_id": "3093a4815ee5400e8478982b57fe7879",
       "version_major": 2,
       "version_minor": 0
      },
      "text/plain": [
       "../results/nqueens_ort/INST_600:   0%|          | 0/11 [00:00<?, ?it/s]"
      ]
     },
     "metadata": {},
     "output_type": "display_data"
    },
    {
     "data": {
      "application/vnd.jupyter.widget-view+json": {
       "model_id": "a8db52f1bfbc462f83d6ac5424c48618",
       "version_major": 2,
       "version_minor": 0
      },
      "text/plain": [
       "../results/nqueens_ort/INST_3000:   0%|          | 0/11 [00:00<?, ?it/s]"
      ]
     },
     "metadata": {},
     "output_type": "display_data"
    },
    {
     "data": {
      "application/vnd.jupyter.widget-view+json": {
       "model_id": "200198a4dcde48dcb2165670932869b6",
       "version_major": 2,
       "version_minor": 0
      },
      "text/plain": [
       "../results/nqueens_ort/INST_2500:   0%|          | 0/11 [00:00<?, ?it/s]"
      ]
     },
     "metadata": {},
     "output_type": "display_data"
    },
    {
     "data": {
      "application/vnd.jupyter.widget-view+json": {
       "model_id": "0de077a6b8164992a19e7d8f8eb58a8a",
       "version_major": 2,
       "version_minor": 0
      },
      "text/plain": [
       "../results/nqueens_ort/INST_1500:   0%|          | 0/11 [00:00<?, ?it/s]"
      ]
     },
     "metadata": {},
     "output_type": "display_data"
    },
    {
     "data": {
      "application/vnd.jupyter.widget-view+json": {
       "model_id": "bda96ceea83247ff9e0dfbabc01cd771",
       "version_major": 2,
       "version_minor": 0
      },
      "text/plain": [
       "../results/nqueens_ort/INST_500:   0%|          | 0/11 [00:00<?, ?it/s]"
      ]
     },
     "metadata": {},
     "output_type": "display_data"
    },
    {
     "data": {
      "application/vnd.jupyter.widget-view+json": {
       "model_id": "e5f4c782c8a84d95919a47787a8cda76",
       "version_major": 2,
       "version_minor": 0
      },
      "text/plain": [
       "../results/nqueens_ort/INST_1000:   0%|          | 0/11 [00:00<?, ?it/s]"
      ]
     },
     "metadata": {},
     "output_type": "display_data"
    }
   ],
   "source": [
    "c = nqueens(solver='nqueens_ort', execl='../charts/1.xlsx')\n",
    "c.arrange()\n",
    "c.save_to('../charts/2.xlsx')"
   ]
  }
 ],
 "metadata": {
  "kernelspec": {
   "display_name": "Python 3 (ipykernel)",
   "language": "python",
   "name": "python3"
  },
  "language_info": {
   "codemirror_mode": {
    "name": "ipython",
    "version": 3
   },
   "file_extension": ".py",
   "mimetype": "text/x-python",
   "name": "python",
   "nbconvert_exporter": "python",
   "pygments_lexer": "ipython3",
   "version": "3.9.15"
  },
  "orig_nbformat": 4,
  "vscode": {
   "interpreter": {
    "hash": "b92a0254a30c2afbf0cf228538e1698f068dfe9bb515fbf9837b53b2177d9016"
   }
  }
 },
 "nbformat": 4,
 "nbformat_minor": 2
}
