{
 "cells": [
  {
   "cell_type": "code",
   "execution_count": 5,
   "metadata": {},
   "outputs": [],
   "source": [
    "import pandas as pd\n",
    "import os\n",
    "from tqdm.notebook import tqdm\n",
    "\n",
    "class nqueens:\n",
    "    \n",
    "    def __init__(self, init=False, solver='nqueens_ls', execl='../charts/base.xlsx'):\n",
    "        self.path = f'../results/{solver}'\n",
    "        self.solver = solver\n",
    "        self.records = pd.read_excel(execl, header=[0], index_col = [0])\n",
    "        if init:\n",
    "            self.records = self.records.drop(index=self.records.index)\n",
    "            self.get_info('../benchmarks/N-Queens/')\n",
    "            \n",
    "    def get_info(self, path):\n",
    "        folder_list = os.listdir(path)\n",
    "        for folder in folder_list:\n",
    "            new_path = os.path.join(path, folder)\n",
    "            if os.path.isdir(new_path):\n",
    "                self.get_info(new_path)\n",
    "            else:\n",
    "                filename = new_path.split('/')[-1]\n",
    "                category = filename.split('_')[0]\n",
    "                percentage = filename.split('_')[1]\n",
    "                self.records.loc[len(self.records.index)] = [filename, category, percentage]\n",
    "        \n",
    "    def save_to(self, filename):\n",
    "        self.records.to_excel(filename)\n",
    "        \n",
    "    def arrange(self):\n",
    "        category_list = os.listdir(self.path)\n",
    "        for folder in category_list:\n",
    "            folder_path = os.path.join(self.path, folder)\n",
    "            file_list = os.listdir(folder_path)\n",
    "            for file in tqdm(file_list, desc=folder_path):\n",
    "                path = os.path.join(folder_path, file)\n",
    "                with open(path) as f:\n",
    "                    try:\n",
    "                        if self.solver == 'nqueens_ls':\n",
    "                            while f.readline():\n",
    "                                info = f.readline()[:-1]\n",
    "                                result = 'timeout'\n",
    "                                time = '1000.000000'\n",
    "                                name = info.split(' ')[0].split('/')[-1]\n",
    "                                if 'find answer' in info:\n",
    "                                    result = 'sat'\n",
    "                                    time = info.split(': ')[-1]\n",
    "                                    f.readline()\n",
    "                                # print(name)\n",
    "                                self.records.loc[self.records['filename'] == name, ['result_' + self.solver, 'time_' + self.solver]] = [result, float(time)]\n",
    "                        elif self.solver == 'nqueens_ort':\n",
    "                            while f.readline():\n",
    "                                info = f.readline()[:-1]\n",
    "                                result = 'timeout'\n",
    "                                time = '1000.000000'\n",
    "                                if info == 'SAT':\n",
    "                                    result = 'sat'\n",
    "                                    info = f.readline()\n",
    "                                    time = int(info.split(' : ')[-1].split(' ')[0]) / 1000.0\n",
    "                                name = info.split(' ')[0].split('/')[-1]\n",
    "                                self.records.loc[self.records['filename'] == name, ['result_' + self.solver, 'time_' + self.solver]] = [result, float(time)]\n",
    "                        elif self.solver == 'nqueens_sat':\n",
    "                            while f.readline():\n",
    "                                info = ''\n",
    "                                result = f.readline()[:-1]\n",
    "                                time = '1000.000000'\n",
    "                                if result[:3] == 's S':\n",
    "                                    result = 'sat'\n",
    "                                    info = f.readline()\n",
    "                                else:\n",
    "                                    info = result\n",
    "                                    result = 'timeout'\n",
    "                                if result == 'sat':\n",
    "                                    time = int(info.split(' : ')[-1].split(' ')[0]) / 1000.0\n",
    "                                name = info.split(' : ')[0].split('/')[-1].split('.')[0] + '.txt'\n",
    "                                self.records.loc[self.records['filename'] == name, ['result_' + self.solver, 'time_' + self.solver]] = [result, float(time)]\n",
    "                    except:\n",
    "                        print(path)"
   ]
  },
  {
   "cell_type": "markdown",
   "metadata": {},
   "source": [
    "初始化表格"
   ]
  },
  {
   "cell_type": "code",
   "execution_count": 6,
   "metadata": {},
   "outputs": [],
   "source": [
    "a = nqueens(init=True)\n",
    "a.save_to('../charts/base.xlsx')"
   ]
  },
  {
   "attachments": {},
   "cell_type": "markdown",
   "metadata": {},
   "source": [
    "nqueens_ls 生成表格"
   ]
  },
  {
   "cell_type": "code",
   "execution_count": 9,
   "metadata": {},
   "outputs": [
    {
     "data": {
      "application/vnd.jupyter.widget-view+json": {
       "model_id": "478a2ae485414df9a51455b40182827e",
       "version_major": 2,
       "version_minor": 0
      },
      "text/plain": [
       "../results/nqueens_ls/INST_800:   0%|          | 0/11 [00:00<?, ?it/s]"
      ]
     },
     "metadata": {},
     "output_type": "display_data"
    },
    {
     "data": {
      "application/vnd.jupyter.widget-view+json": {
       "model_id": "f54a56d247084d179057f83a129c6fba",
       "version_major": 2,
       "version_minor": 0
      },
      "text/plain": [
       "../results/nqueens_ls/INST_400:   0%|          | 0/11 [00:00<?, ?it/s]"
      ]
     },
     "metadata": {},
     "output_type": "display_data"
    },
    {
     "data": {
      "application/vnd.jupyter.widget-view+json": {
       "model_id": "4a93e39dc047445c9d0144d7579cd25b",
       "version_major": 2,
       "version_minor": 0
      },
      "text/plain": [
       "../results/nqueens_ls/INST_200:   0%|          | 0/11 [00:00<?, ?it/s]"
      ]
     },
     "metadata": {},
     "output_type": "display_data"
    },
    {
     "data": {
      "application/vnd.jupyter.widget-view+json": {
       "model_id": "de7cd9bdd39641c296c5182d15df8ed1",
       "version_major": 2,
       "version_minor": 0
      },
      "text/plain": [
       "../results/nqueens_ls/INST_600:   0%|          | 0/11 [00:00<?, ?it/s]"
      ]
     },
     "metadata": {},
     "output_type": "display_data"
    }
   ],
   "source": [
    "c = nqueens(solver='nqueens_ls', execl='../charts/base.xlsx')\n",
    "c.arrange()\n",
    "c.save_to('../charts/1.xlsx')"
   ]
  },
  {
   "attachments": {},
   "cell_type": "markdown",
   "metadata": {},
   "source": [
    "nqueens_ort 生成表格"
   ]
  },
  {
   "cell_type": "code",
   "execution_count": 10,
   "metadata": {},
   "outputs": [
    {
     "data": {
      "application/vnd.jupyter.widget-view+json": {
       "model_id": "be555843097e4d3c851507b4980a3aa9",
       "version_major": 2,
       "version_minor": 0
      },
      "text/plain": [
       "../results/nqueens_ort/INST_800:   0%|          | 0/11 [00:00<?, ?it/s]"
      ]
     },
     "metadata": {},
     "output_type": "display_data"
    },
    {
     "data": {
      "application/vnd.jupyter.widget-view+json": {
       "model_id": "bd6ef9f8794e4b63b27a61ff2169493a",
       "version_major": 2,
       "version_minor": 0
      },
      "text/plain": [
       "../results/nqueens_ort/INST_400:   0%|          | 0/11 [00:00<?, ?it/s]"
      ]
     },
     "metadata": {},
     "output_type": "display_data"
    },
    {
     "data": {
      "application/vnd.jupyter.widget-view+json": {
       "model_id": "e44f5f816e6c4d478b94e252a31e2547",
       "version_major": 2,
       "version_minor": 0
      },
      "text/plain": [
       "../results/nqueens_ort/INST_200:   0%|          | 0/11 [00:00<?, ?it/s]"
      ]
     },
     "metadata": {},
     "output_type": "display_data"
    },
    {
     "data": {
      "application/vnd.jupyter.widget-view+json": {
       "model_id": "b4cc7a389cf64acea7336c083c6bd03c",
       "version_major": 2,
       "version_minor": 0
      },
      "text/plain": [
       "../results/nqueens_ort/INST_600:   0%|          | 0/11 [00:00<?, ?it/s]"
      ]
     },
     "metadata": {},
     "output_type": "display_data"
    }
   ],
   "source": [
    "c = nqueens(solver='nqueens_ort', execl='../charts/1.xlsx')\n",
    "c.arrange()\n",
    "c.save_to('../charts/2.xlsx')"
   ]
  }
 ],
 "metadata": {
  "kernelspec": {
   "display_name": "Python 3 (ipykernel)",
   "language": "python",
   "name": "python3"
  },
  "language_info": {
   "codemirror_mode": {
    "name": "ipython",
    "version": 3
   },
   "file_extension": ".py",
   "mimetype": "text/x-python",
   "name": "python",
   "nbconvert_exporter": "python",
   "pygments_lexer": "ipython3",
   "version": "3.9.15"
  },
  "orig_nbformat": 4,
  "vscode": {
   "interpreter": {
    "hash": "b92a0254a30c2afbf0cf228538e1698f068dfe9bb515fbf9837b53b2177d9016"
   }
  }
 },
 "nbformat": 4,
 "nbformat_minor": 2
}
