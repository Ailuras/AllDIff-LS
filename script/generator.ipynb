{
 "cells": [
  {
   "cell_type": "code",
   "execution_count": 1,
   "metadata": {},
   "outputs": [],
   "source": [
    "import pandas as pd\n",
    "import os\n",
    "from tqdm.notebook import tqdm\n",
    "\n",
    "class nqueens:\n",
    "    \n",
    "    def __init__(self, init=False, solver='nqueens_ls', execl='../charts/base.xlsx', benchmarks='benchmarks'):\n",
    "        self.path = f'../results/{solver}'\n",
    "        self.solver = solver\n",
    "        self.records = pd.read_excel(execl, header=[0], index_col = [0])\n",
    "        if init:\n",
    "            # self.records = self.records.drop(index=self.records.index)\n",
    "            self.get_info(f'../{benchmarks}/N-Queens/')\n",
    "            \n",
    "    def get_info(self, path):\n",
    "        folder_list = os.listdir(path)\n",
    "        for folder in folder_list:\n",
    "            new_path = os.path.join(path, folder)\n",
    "            if os.path.isdir(new_path):\n",
    "                self.get_info(new_path)\n",
    "            else:\n",
    "                filename = new_path.split('/')[-1]\n",
    "                category = filename.split('_')[0]\n",
    "                percentage = filename.split('_')[1]\n",
    "                self.records.loc[len(self.records.index)] = [filename, category, percentage]\n",
    "        \n",
    "    def save_to(self, filename):\n",
    "        self.records.to_excel(filename)\n",
    "        \n",
    "    def arrange(self):\n",
    "        category_list = os.listdir(self.path)\n",
    "        for folder in category_list:\n",
    "            folder_path = os.path.join(self.path, folder)\n",
    "            file_list = os.listdir(folder_path)\n",
    "            for file in tqdm(file_list, desc=folder_path):\n",
    "                path = os.path.join(folder_path, file)\n",
    "                with open(path) as f:\n",
    "                    try:\n",
    "                        if self.solver == 'nqueens_ls':\n",
    "                            while f.readline():\n",
    "                                info = f.readline()[:-1]\n",
    "                                result = 'timeout'\n",
    "                                time = '1000.000000'\n",
    "                                name = info.split(' ')[0].split('/')[-1]\n",
    "                                if 'find answer' in info:\n",
    "                                    result = 'sat'\n",
    "                                    time = info.split(': ')[-1]\n",
    "                                    f.readline()\n",
    "                                # print(name)\n",
    "                                self.records.loc[self.records['filename'] == name, ['result_' + self.solver, 'time_' + self.solver]] = [result, float(time)]\n",
    "                        elif self.solver == 'nqueens_ort':\n",
    "                            while f.readline():\n",
    "                                info = f.readline()[:-1]\n",
    "                                result = 'timeout'\n",
    "                                time = '1000.000000'\n",
    "                                if info == 'SAT':\n",
    "                                    result = 'sat'\n",
    "                                    info = f.readline()\n",
    "                                    time = int(info.split(' : ')[-1].split(' ')[0]) / 1000.0\n",
    "                                name = info.split(' ')[0].split('/')[-1]\n",
    "                                self.records.loc[self.records['filename'] == name, ['result_' + self.solver, 'time_' + self.solver]] = [result, float(time)]\n",
    "                        elif self.solver == 'nqueens_sat':\n",
    "                            while f.readline():\n",
    "                                info = ''\n",
    "                                result = f.readline()[:-1]\n",
    "                                time = '1000.000000'\n",
    "                                if result[:3] == 's S':\n",
    "                                    result = 'sat'\n",
    "                                    info = f.readline()\n",
    "                                else:\n",
    "                                    info = result\n",
    "                                    result = 'timeout'\n",
    "                                if result == 'sat':\n",
    "                                    time = int(info.split(' : ')[-1].split(' ')[0]) / 1000.0\n",
    "                                name = info.split(' : ')[0].split('/')[-1].split('.')[0] + '.txt'\n",
    "                                self.records.loc[self.records['filename'] == name, ['result_' + self.solver, 'time_' + self.solver]] = [result, float(time)]\n",
    "                    except:\n",
    "                        print(path)"
   ]
  },
  {
   "cell_type": "markdown",
   "metadata": {},
   "source": [
    "初始化表格"
   ]
  },
  {
   "cell_type": "code",
   "execution_count": 2,
   "metadata": {},
   "outputs": [],
   "source": [
    "a = nqueens(init=True, benchmarks='benchmarks')\n",
    "a.save_to('../charts/base.xlsx')\n",
    "a = nqueens(init=True, benchmarks='benchmarks_0')\n",
    "a.save_to('../charts/base.xlsx')\n",
    "a = nqueens(init=True, benchmarks='benchmarks_1')\n",
    "a.save_to('../charts/base.xlsx')\n",
    "a = nqueens(init=True, benchmarks='benchmarks_2')\n",
    "a.save_to('../charts/base.xlsx')\n",
    "a = nqueens(init=True, benchmarks='benchmarks_3')\n",
    "a.save_to('../charts/base.xlsx')"
   ]
  },
  {
   "attachments": {},
   "cell_type": "markdown",
   "metadata": {},
   "source": [
    "nqueens_ls 生成表格"
   ]
  },
  {
   "cell_type": "code",
   "execution_count": 3,
   "metadata": {},
   "outputs": [
    {
     "data": {
      "application/vnd.jupyter.widget-view+json": {
       "model_id": "3058a597e314455f9036080a05867788",
       "version_major": 2,
       "version_minor": 0
      },
      "text/plain": [
       "../results/nqueens_ls/INST_1200:   0%|          | 0/11 [00:00<?, ?it/s]"
      ]
     },
     "metadata": {},
     "output_type": "display_data"
    },
    {
     "data": {
      "application/vnd.jupyter.widget-view+json": {
       "model_id": "1adddff9166d40e29f982a40a8a99bc8",
       "version_major": 2,
       "version_minor": 0
      },
      "text/plain": [
       "../results/nqueens_ls/INST_2000:   0%|          | 0/11 [00:00<?, ?it/s]"
      ]
     },
     "metadata": {},
     "output_type": "display_data"
    },
    {
     "data": {
      "application/vnd.jupyter.widget-view+json": {
       "model_id": "75d3c7b9ef7949118d4135b838fa6448",
       "version_major": 2,
       "version_minor": 0
      },
      "text/plain": [
       "../results/nqueens_ls/INST_600:   0%|          | 0/11 [00:00<?, ?it/s]"
      ]
     },
     "metadata": {},
     "output_type": "display_data"
    },
    {
     "data": {
      "application/vnd.jupyter.widget-view+json": {
       "model_id": "1b3f398ab6ea4270914faa1db37e0701",
       "version_major": 2,
       "version_minor": 0
      },
      "text/plain": [
       "../results/nqueens_ls/INST_800:   0%|          | 0/11 [00:00<?, ?it/s]"
      ]
     },
     "metadata": {},
     "output_type": "display_data"
    },
    {
     "data": {
      "application/vnd.jupyter.widget-view+json": {
       "model_id": "ca8df56f030c459ebcf42fe838e3c7d7",
       "version_major": 2,
       "version_minor": 0
      },
      "text/plain": [
       "../results/nqueens_ls/INST_1000:   0%|          | 0/11 [00:00<?, ?it/s]"
      ]
     },
     "metadata": {},
     "output_type": "display_data"
    },
    {
     "data": {
      "application/vnd.jupyter.widget-view+json": {
       "model_id": "8eec4e8c53684bfebc6661a550ef9d5c",
       "version_major": 2,
       "version_minor": 0
      },
      "text/plain": [
       "../results/nqueens_ls/INST_200:   0%|          | 0/11 [00:00<?, ?it/s]"
      ]
     },
     "metadata": {},
     "output_type": "display_data"
    },
    {
     "data": {
      "application/vnd.jupyter.widget-view+json": {
       "model_id": "ecb02f7cc61c43bf96eedf59d63bddf0",
       "version_major": 2,
       "version_minor": 0
      },
      "text/plain": [
       "../results/nqueens_ls/INST_1800:   0%|          | 0/11 [00:00<?, ?it/s]"
      ]
     },
     "metadata": {},
     "output_type": "display_data"
    },
    {
     "data": {
      "application/vnd.jupyter.widget-view+json": {
       "model_id": "5a383db4648849dc98e601f8d80b4646",
       "version_major": 2,
       "version_minor": 0
      },
      "text/plain": [
       "../results/nqueens_ls/INST_400:   0%|          | 0/11 [00:00<?, ?it/s]"
      ]
     },
     "metadata": {},
     "output_type": "display_data"
    },
    {
     "data": {
      "application/vnd.jupyter.widget-view+json": {
       "model_id": "2f1cc4c7c9444721a13b82fdf7999300",
       "version_major": 2,
       "version_minor": 0
      },
      "text/plain": [
       "../results/nqueens_ls/INST_1600:   0%|          | 0/11 [00:00<?, ?it/s]"
      ]
     },
     "metadata": {},
     "output_type": "display_data"
    },
    {
     "data": {
      "application/vnd.jupyter.widget-view+json": {
       "model_id": "0e86d11ce2904bcaae7719e9cea6972d",
       "version_major": 2,
       "version_minor": 0
      },
      "text/plain": [
       "../results/nqueens_ls/INST_1400:   0%|          | 0/11 [00:00<?, ?it/s]"
      ]
     },
     "metadata": {},
     "output_type": "display_data"
    }
   ],
   "source": [
    "c = nqueens(solver='nqueens_ls', execl='../charts/base.xlsx')\n",
    "c.arrange()\n",
    "c.save_to('../charts/1.xlsx')"
   ]
  },
  {
   "attachments": {},
   "cell_type": "markdown",
   "metadata": {},
   "source": [
    "nqueens_ort 生成表格"
   ]
  },
  {
   "cell_type": "code",
   "execution_count": 4,
   "metadata": {},
   "outputs": [
    {
     "data": {
      "application/vnd.jupyter.widget-view+json": {
       "model_id": "00770b2ae9f640dfaad15fe9cff702fa",
       "version_major": 2,
       "version_minor": 0
      },
      "text/plain": [
       "../results/nqueens_ort/INST_1200:   0%|          | 0/11 [00:00<?, ?it/s]"
      ]
     },
     "metadata": {},
     "output_type": "display_data"
    },
    {
     "data": {
      "application/vnd.jupyter.widget-view+json": {
       "model_id": "3026ab145dec4ab2b657b8b8bb9adc6b",
       "version_major": 2,
       "version_minor": 0
      },
      "text/plain": [
       "../results/nqueens_ort/INST_2000:   0%|          | 0/11 [00:00<?, ?it/s]"
      ]
     },
     "metadata": {},
     "output_type": "display_data"
    },
    {
     "data": {
      "application/vnd.jupyter.widget-view+json": {
       "model_id": "e76460d105e2436685d0801f758a3bf2",
       "version_major": 2,
       "version_minor": 0
      },
      "text/plain": [
       "../results/nqueens_ort/INST_600:   0%|          | 0/11 [00:00<?, ?it/s]"
      ]
     },
     "metadata": {},
     "output_type": "display_data"
    },
    {
     "data": {
      "application/vnd.jupyter.widget-view+json": {
       "model_id": "28a2f8f1707242f5830922494d5e9e41",
       "version_major": 2,
       "version_minor": 0
      },
      "text/plain": [
       "../results/nqueens_ort/INST_800:   0%|          | 0/11 [00:00<?, ?it/s]"
      ]
     },
     "metadata": {},
     "output_type": "display_data"
    },
    {
     "data": {
      "application/vnd.jupyter.widget-view+json": {
       "model_id": "51d8f7402f0b439abc95d17aee8848eb",
       "version_major": 2,
       "version_minor": 0
      },
      "text/plain": [
       "../results/nqueens_ort/INST_1000:   0%|          | 0/11 [00:00<?, ?it/s]"
      ]
     },
     "metadata": {},
     "output_type": "display_data"
    },
    {
     "data": {
      "application/vnd.jupyter.widget-view+json": {
       "model_id": "1ab0987ae1084f1386598209972f4b08",
       "version_major": 2,
       "version_minor": 0
      },
      "text/plain": [
       "../results/nqueens_ort/INST_200:   0%|          | 0/11 [00:00<?, ?it/s]"
      ]
     },
     "metadata": {},
     "output_type": "display_data"
    },
    {
     "data": {
      "application/vnd.jupyter.widget-view+json": {
       "model_id": "a1e09329c0e847d6b2fee1f3ebf707cd",
       "version_major": 2,
       "version_minor": 0
      },
      "text/plain": [
       "../results/nqueens_ort/INST_1800:   0%|          | 0/11 [00:00<?, ?it/s]"
      ]
     },
     "metadata": {},
     "output_type": "display_data"
    },
    {
     "data": {
      "application/vnd.jupyter.widget-view+json": {
       "model_id": "c78fdc706ad74b8eb456f12166c5c7d0",
       "version_major": 2,
       "version_minor": 0
      },
      "text/plain": [
       "../results/nqueens_ort/INST_400:   0%|          | 0/11 [00:00<?, ?it/s]"
      ]
     },
     "metadata": {},
     "output_type": "display_data"
    },
    {
     "data": {
      "application/vnd.jupyter.widget-view+json": {
       "model_id": "2fd55c18d2a8492c9aa8c7e50be90f22",
       "version_major": 2,
       "version_minor": 0
      },
      "text/plain": [
       "../results/nqueens_ort/INST_1600:   0%|          | 0/11 [00:00<?, ?it/s]"
      ]
     },
     "metadata": {},
     "output_type": "display_data"
    },
    {
     "data": {
      "application/vnd.jupyter.widget-view+json": {
       "model_id": "3bf91eed93dc4666a28d093457daf07a",
       "version_major": 2,
       "version_minor": 0
      },
      "text/plain": [
       "../results/nqueens_ort/INST_1400:   0%|          | 0/11 [00:00<?, ?it/s]"
      ]
     },
     "metadata": {},
     "output_type": "display_data"
    }
   ],
   "source": [
    "c = nqueens(solver='nqueens_ort', execl='../charts/1.xlsx')\n",
    "c.arrange()\n",
    "c.save_to('../charts/2.xlsx')"
   ]
  }
 ],
 "metadata": {
  "kernelspec": {
   "display_name": "Python 3 (ipykernel)",
   "language": "python",
   "name": "python3"
  },
  "language_info": {
   "codemirror_mode": {
    "name": "ipython",
    "version": 3
   },
   "file_extension": ".py",
   "mimetype": "text/x-python",
   "name": "python",
   "nbconvert_exporter": "python",
   "pygments_lexer": "ipython3",
   "version": "3.9.12"
  },
  "orig_nbformat": 4,
  "vscode": {
   "interpreter": {
    "hash": "b92a0254a30c2afbf0cf228538e1698f068dfe9bb515fbf9837b53b2177d9016"
   }
  }
 },
 "nbformat": 4,
 "nbformat_minor": 2
}
