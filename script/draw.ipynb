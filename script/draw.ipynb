{
 "cells": [
  {
   "cell_type": "code",
   "execution_count": 1,
   "metadata": {},
   "outputs": [
    {
     "ename": "ImportError",
     "evalue": "this version of pandas is incompatible with numpy < 1.20.3\nyour numpy version is 1.19.5.\nPlease upgrade numpy to >= 1.20.3 to use this pandas version",
     "output_type": "error",
     "traceback": [
      "\u001b[0;31m---------------------------------------------------------------------------\u001b[0m",
      "\u001b[0;31mImportError\u001b[0m                               Traceback (most recent call last)",
      "Cell \u001b[0;32mIn[1], line 2\u001b[0m\n\u001b[1;32m      1\u001b[0m \u001b[39mfrom\u001b[39;00m \u001b[39msys\u001b[39;00m \u001b[39mimport\u001b[39;00m prefix\n\u001b[0;32m----> 2\u001b[0m \u001b[39mimport\u001b[39;00m \u001b[39mpandas\u001b[39;00m \u001b[39mas\u001b[39;00m \u001b[39mpd\u001b[39;00m\n\u001b[1;32m      3\u001b[0m \u001b[39mimport\u001b[39;00m \u001b[39mrandom\u001b[39;00m\n\u001b[1;32m      4\u001b[0m \u001b[39mimport\u001b[39;00m \u001b[39mos\u001b[39;00m\n",
      "File \u001b[0;32m~/miniconda3/lib/python3.9/site-packages/pandas/__init__.py:22\u001b[0m\n\u001b[1;32m     19\u001b[0m \u001b[39mdel\u001b[39;00m _hard_dependencies, _dependency, _missing_dependencies\n\u001b[1;32m     21\u001b[0m \u001b[39m# numpy compat\u001b[39;00m\n\u001b[0;32m---> 22\u001b[0m \u001b[39mfrom\u001b[39;00m \u001b[39mpandas\u001b[39;00m\u001b[39m.\u001b[39;00m\u001b[39mcompat\u001b[39;00m \u001b[39mimport\u001b[39;00m is_numpy_dev \u001b[39mas\u001b[39;00m _is_numpy_dev  \u001b[39m# pyright: ignore # noqa:F401\u001b[39;00m\n\u001b[1;32m     24\u001b[0m \u001b[39mtry\u001b[39;00m:\n\u001b[1;32m     25\u001b[0m     \u001b[39mfrom\u001b[39;00m \u001b[39mpandas\u001b[39;00m\u001b[39m.\u001b[39;00m\u001b[39m_libs\u001b[39;00m \u001b[39mimport\u001b[39;00m hashtable \u001b[39mas\u001b[39;00m _hashtable, lib \u001b[39mas\u001b[39;00m _lib, tslib \u001b[39mas\u001b[39;00m _tslib\n",
      "File \u001b[0;32m~/miniconda3/lib/python3.9/site-packages/pandas/compat/__init__.py:18\u001b[0m\n\u001b[1;32m     15\u001b[0m \u001b[39mfrom\u001b[39;00m \u001b[39mtyping\u001b[39;00m \u001b[39mimport\u001b[39;00m TYPE_CHECKING\n\u001b[1;32m     17\u001b[0m \u001b[39mfrom\u001b[39;00m \u001b[39mpandas\u001b[39;00m\u001b[39m.\u001b[39;00m\u001b[39m_typing\u001b[39;00m \u001b[39mimport\u001b[39;00m F\n\u001b[0;32m---> 18\u001b[0m \u001b[39mfrom\u001b[39;00m \u001b[39mpandas\u001b[39;00m\u001b[39m.\u001b[39;00m\u001b[39mcompat\u001b[39;00m\u001b[39m.\u001b[39;00m\u001b[39mnumpy\u001b[39;00m \u001b[39mimport\u001b[39;00m (\n\u001b[1;32m     19\u001b[0m     is_numpy_dev,\n\u001b[1;32m     20\u001b[0m     np_version_under1p21,\n\u001b[1;32m     21\u001b[0m )\n\u001b[1;32m     22\u001b[0m \u001b[39mfrom\u001b[39;00m \u001b[39mpandas\u001b[39;00m\u001b[39m.\u001b[39;00m\u001b[39mcompat\u001b[39;00m\u001b[39m.\u001b[39;00m\u001b[39mpyarrow\u001b[39;00m \u001b[39mimport\u001b[39;00m (\n\u001b[1;32m     23\u001b[0m     pa_version_under1p01,\n\u001b[1;32m     24\u001b[0m     pa_version_under2p0,\n\u001b[0;32m   (...)\u001b[0m\n\u001b[1;32m     31\u001b[0m     pa_version_under9p0,\n\u001b[1;32m     32\u001b[0m )\n\u001b[1;32m     34\u001b[0m \u001b[39mif\u001b[39;00m TYPE_CHECKING:\n",
      "File \u001b[0;32m~/miniconda3/lib/python3.9/site-packages/pandas/compat/numpy/__init__.py:23\u001b[0m\n\u001b[1;32m     19\u001b[0m     np_percentile_argname \u001b[39m=\u001b[39m \u001b[39m\"\u001b[39m\u001b[39minterpolation\u001b[39m\u001b[39m\"\u001b[39m\n\u001b[1;32m     22\u001b[0m \u001b[39mif\u001b[39;00m _nlv \u001b[39m<\u001b[39m Version(_min_numpy_ver):\n\u001b[0;32m---> 23\u001b[0m     \u001b[39mraise\u001b[39;00m \u001b[39mImportError\u001b[39;00m(\n\u001b[1;32m     24\u001b[0m         \u001b[39mf\u001b[39m\u001b[39m\"\u001b[39m\u001b[39mthis version of pandas is incompatible with numpy < \u001b[39m\u001b[39m{\u001b[39;00m_min_numpy_ver\u001b[39m}\u001b[39;00m\u001b[39m\\n\u001b[39;00m\u001b[39m\"\u001b[39m\n\u001b[1;32m     25\u001b[0m         \u001b[39mf\u001b[39m\u001b[39m\"\u001b[39m\u001b[39myour numpy version is \u001b[39m\u001b[39m{\u001b[39;00m_np_version\u001b[39m}\u001b[39;00m\u001b[39m.\u001b[39m\u001b[39m\\n\u001b[39;00m\u001b[39m\"\u001b[39m\n\u001b[1;32m     26\u001b[0m         \u001b[39mf\u001b[39m\u001b[39m\"\u001b[39m\u001b[39mPlease upgrade numpy to >= \u001b[39m\u001b[39m{\u001b[39;00m_min_numpy_ver\u001b[39m}\u001b[39;00m\u001b[39m to use this pandas version\u001b[39m\u001b[39m\"\u001b[39m\n\u001b[1;32m     27\u001b[0m     )\n\u001b[1;32m     30\u001b[0m __all__ \u001b[39m=\u001b[39m [\n\u001b[1;32m     31\u001b[0m     \u001b[39m\"\u001b[39m\u001b[39mnp\u001b[39m\u001b[39m\"\u001b[39m,\n\u001b[1;32m     32\u001b[0m     \u001b[39m\"\u001b[39m\u001b[39m_np_version\u001b[39m\u001b[39m\"\u001b[39m,\n\u001b[1;32m     33\u001b[0m     \u001b[39m\"\u001b[39m\u001b[39mis_numpy_dev\u001b[39m\u001b[39m\"\u001b[39m,\n\u001b[1;32m     34\u001b[0m ]\n",
      "\u001b[0;31mImportError\u001b[0m: this version of pandas is incompatible with numpy < 1.20.3\nyour numpy version is 1.19.5.\nPlease upgrade numpy to >= 1.20.3 to use this pandas version"
     ]
    }
   ],
   "source": [
    "from sys import prefix\n",
    "import pandas as pd\n",
    "import random\n",
    "import os\n",
    "import shutil\n",
    "from tqdm.notebook import tqdm\n",
    "import matplotlib.pyplot as plt\n",
    "import math\n",
    "\n",
    "mapping = {3: 0, 4: 1, 5: 2, 7: 3, 8: 4, 9: 5}\n",
    "\n",
    "def to_index(input_value):\n",
    "    return mapping.get(input_value, None)\n",
    "\n",
    "def get_data(result1 = 'results', result2 = ''):\n",
    "    \n",
    "    time1 = [[0 for i in range(10)] for i in range(6)]\n",
    "    for result in tqdm(os.listdir(result1)):\n",
    "        result_path = os.path.join(result1, result)\n",
    "        index = int(result.split('.')[0])\n",
    "        with open(result_path) as f:\n",
    "            while f.readline():\n",
    "                info = f.readline()[:-1]\n",
    "                if 'find answer' in info:\n",
    "                    info = f.readline()\n",
    "                    key = int(info.split(' ')[0].split('/')[-1].split['.'][0].split('t')[-1])\n",
    "                    time = int(info.split(' : ')[-1].split(' ')[0]) / 1000.0\n",
    "                    time1[to_index(key)][index] = time\n",
    "                else:\n",
    "                    key = int(info.split(' ')[0].split('/')[-1].split['.'][0].split('t')[-1])\n",
    "                    time = 1000.0\n",
    "                    time1[to_index(key)][index] = time            \n",
    "    time1 = [x for a in time1 for x in a]\n",
    "    \n",
    "    time2 = [[0 for i in range(10)] for i in range(6)]\n",
    "    for result in tqdm(os.listdir(result1)):\n",
    "        result_path = os.path.join(result1, result)\n",
    "        index = int(result.split('.')[0])\n",
    "        with open(result_path) as f:\n",
    "            while f.readline():\n",
    "                info = f.readline()[:-1]\n",
    "                if 'find answer' in info:\n",
    "                    info = f.readline()\n",
    "                    key = int(info.split(' ')[0].split('/')[-1].split['.'][0].split('t')[-1])\n",
    "                    time = int(info.split(' : ')[-1].split(' ')[0]) / 1000.0\n",
    "                    time2[to_index(key)][index] = time\n",
    "                else:\n",
    "                    key = int(info.split(' ')[0].split('/')[-1].split['.'][0].split('t')[-1])\n",
    "                    time = 1000.0\n",
    "                    time2[to_index(key)][index] = time\n",
    "    time2 = [x for a in time2 for x in a]\n",
    "\n",
    "    X = [[], []]\n",
    "    Y = [[], []]\n",
    "    for x, y in zip(time1, time2):\n",
    "        if x < 1000 and y < 1000 and x > 0 and y > 0:\n",
    "            X[0].append(x)\n",
    "            X[1].append(y)\n",
    "        else:\n",
    "            # if x == 0 or y == 0:\n",
    "            #     x = 1000\n",
    "            #     y = 1000\n",
    "            Y[0].append(x)\n",
    "            Y[1].append(y)\n",
    "    print(len(X[0]))\n",
    "    print(len(Y[0]))\n",
    "    return X, Y"
   ]
  },
  {
   "cell_type": "code",
   "execution_count": null,
   "metadata": {},
   "outputs": [],
   "source": [
    "from cProfile import label\n",
    "import matplotlib.pyplot as plt\n",
    "import matplotlib.ticker\n",
    "import numpy as np\n",
    "import sys\n",
    "\n",
    "def get_compare(a, b, type='log'):\n",
    "    # 生成数据\n",
    "    X, Y = get_data(a, b)\n",
    "\n",
    "    # 生成图形\n",
    "    plt.figure(figsize=(5.3, 5.3))\n",
    "    \n",
    "    plt.scatter(X[0], X[1], s=1, c='purple', marker=\"x\", linewidth=5, alpha=0.4)\n",
    "    plt.scatter(Y[0], Y[1], s=1, c='peru', marker=\"x\", linewidth=5, alpha=0.6)\n",
    "    x = [i for i in range(0, 1200)]\n",
    "    plt.plot(x, x, c='black', linewidth=0.5)\n",
    "\n",
    "    # 显示图形\n",
    "    plt.xlabel(a.upper() + ' (s)') # 横坐标轴的标题\n",
    "    plt.ylabel(b.upper() + ' (s)') # 纵坐标轴的标题\n",
    "    \n",
    "    if type == 'log':\n",
    "        plt.xlim(1, 1200)\n",
    "        plt.ylim(1, 1200)\n",
    "        plt.xscale('symlog')\n",
    "        plt.yscale('symlog')\n",
    "        plt.axhline(y=10,ls=\":\",c=\"gray\")\n",
    "        plt.axhline(y=100,ls=\":\",c=\"gray\")\n",
    "        \n",
    "        plt.axvline(x=10,ls=\":\",c=\"gray\")\n",
    "        plt.axvline(x=100,ls=\":\",c=\"gray\")\n",
    "    else:\n",
    "        plt.xlim(1, 1020)\n",
    "        plt.ylim(1, 1020)\n",
    "        plt.axhline(y=200,ls=\":\",c=\"gray\")\n",
    "        plt.axhline(y=400,ls=\":\",c=\"gray\")\n",
    "        plt.axhline(y=600,ls=\":\",c=\"gray\")\n",
    "        plt.axhline(y=800,ls=\":\",c=\"gray\")\n",
    "        # plt.axhline(y=1000,ls=\":\",c=\"gray\")\n",
    "        \n",
    "        plt.axvline(x=200,ls=\":\",c=\"gray\")\n",
    "        plt.axvline(x=400,ls=\":\",c=\"gray\")\n",
    "        plt.axvline(x=600,ls=\":\",c=\"gray\")\n",
    "        plt.axvline(x=800,ls=\":\",c=\"gray\")\n",
    "        # plt.axvline(x=1000,ls=\":\",c=\"gray\")\n",
    "\n",
    "    if type == 'log':\n",
    "        plt.savefig('./charts/'+a.upper() + '_VS_' + b.upper() + '(log)' +'.pdf')\n",
    "    else:\n",
    "        plt.savefig('./charts/'+a.upper() + '_VS_' + b.upper() + '.pdf')\n",
    "    plt.show()\n",
    "    # plt.close()"
   ]
  },
  {
   "cell_type": "code",
   "execution_count": null,
   "metadata": {},
   "outputs": [],
   "source": [
    "get_compare('ACP-LS', 'ACP-LS1', type='log')"
   ]
  },
  {
   "cell_type": "code",
   "execution_count": null,
   "metadata": {},
   "outputs": [],
   "source": [
    "get_compare('ACP-LS', 'ACP-LS1', type='none')"
   ]
  },
  {
   "cell_type": "code",
   "execution_count": null,
   "metadata": {},
   "outputs": [],
   "source": [
    "get_compare('ACP-LS', 'ACP-LS2', type='log')"
   ]
  },
  {
   "cell_type": "code",
   "execution_count": null,
   "metadata": {},
   "outputs": [],
   "source": [
    "get_compare('ADP-LS', 'ADP-LS2', type='none')"
   ]
  }
 ],
 "metadata": {
  "kernelspec": {
   "display_name": "base",
   "language": "python",
   "name": "python3"
  },
  "language_info": {
   "codemirror_mode": {
    "name": "ipython",
    "version": 3
   },
   "file_extension": ".py",
   "mimetype": "text/x-python",
   "name": "python",
   "nbconvert_exporter": "python",
   "pygments_lexer": "ipython3",
   "version": "3.9.15"
  },
  "orig_nbformat": 4,
  "vscode": {
   "interpreter": {
    "hash": "b92a0254a30c2afbf0cf228538e1698f068dfe9bb515fbf9837b53b2177d9016"
   }
  }
 },
 "nbformat": 4,
 "nbformat_minor": 2
}
