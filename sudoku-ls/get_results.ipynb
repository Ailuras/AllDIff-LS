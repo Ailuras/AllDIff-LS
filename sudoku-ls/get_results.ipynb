{
 "cells": [
  {
   "cell_type": "code",
   "execution_count": 29,
   "metadata": {},
   "outputs": [],
   "source": [
    "import pandas as pd\n",
    "import os\n",
    "from tqdm.notebook import tqdm\n",
    "# from z3 import *\n",
    "\n",
    "class sudoku:\n",
    "    \n",
    "    def __init__(self, init=False, solver='sudoku_rule1'):\n",
    "        self.solver = solver\n",
    "        self.data_path = 'results/' + solver\n",
    "        category_list = sorted(os.listdir(self.data_path))\n",
    "        for folder in category_list:\n",
    "            total = int(folder.split('x')[-1])**2\n",
    "            folder_path = os.path.join(self.data_path, folder)\n",
    "            file_list = sorted(os.listdir(folder_path))\n",
    "            for file in tqdm(file_list, desc=folder_path):\n",
    "                path = os.path.join(folder_path, file)\n",
    "                unfixed = total * (100-int(file.split('_')[-1].split('.')[0])) + 100\n",
    "                with open(path) as f:\n",
    "                    try:\n",
    "                        avg_num = 0\n",
    "                        if self.solver == 'sudoku_rule1234':\n",
    "                            while f.readline():\n",
    "                                info = f.readline()[:-1]\n",
    "                                time = info.split(': ')[-1]\n",
    "                                f.readline()\n",
    "                                avg_time += float(time)\n",
    "                        elif self.solver == 'sudoku_rule1':\n",
    "                            while f.readline():\n",
    "                                info = f.readline()[:-1]\n",
    "                                time = info.split(': ')[-1]\n",
    "                                f.readline()\n",
    "                                avg_time += float(time)\n",
    "                        elif self.solver == 'sudoku_rule234':                            \n",
    "                            while f.readline():\n",
    "                                info = f.readline()[:-1]\n",
    "                                time = info.split(': ')[-1]\n",
    "                                f.readline()\n",
    "                                avg_time += float(time)\n",
    "                        elif self.solver == 'sudoku_gac':                            \n",
    "                            while f.readline():\n",
    "                                f.readline()\n",
    "                                info = f.readline()\n",
    "                                number = info.split(' : ')[-1][:-5]\n",
    "                                avg_num += int(number)\n",
    "                        print(f\"{file}: {avg_num/100000:.2f}\")\n",
    "                    except:\n",
    "                        print(path)\n",
    "    "
   ]
  },
  {
   "cell_type": "code",
   "execution_count": 30,
   "metadata": {},
   "outputs": [
    {
     "data": {
      "application/vnd.jupyter.widget-view+json": {
       "model_id": "ce312b7316784f709310d5a4f80a295e",
       "version_major": 2,
       "version_minor": 0
      },
      "text/plain": [
       "results/sudoku_gac/INST_16x16:   0%|          | 0/10 [00:00<?, ?it/s]"
      ]
     },
     "metadata": {},
     "output_type": "display_data"
    },
    {
     "name": "stdout",
     "output_type": "stream",
     "text": [
      "result_0.log: 0.36\n",
      "result_10.log: 0.34\n",
      "result_20.log: 0.33\n",
      "result_30.log: 0.34\n",
      "result_40.log: 0.37\n",
      "result_50.log: 0.37\n",
      "result_60.log: 0.32\n",
      "result_70.log: 0.31\n",
      "result_80.log: 0.29\n",
      "result_90.log: 0.28\n"
     ]
    },
    {
     "data": {
      "application/vnd.jupyter.widget-view+json": {
       "model_id": "9a9ce40aa0964488a99c10719ae828f1",
       "version_major": 2,
       "version_minor": 0
      },
      "text/plain": [
       "results/sudoku_gac/INST_25x25:   0%|          | 0/10 [00:00<?, ?it/s]"
      ]
     },
     "metadata": {},
     "output_type": "display_data"
    },
    {
     "name": "stdout",
     "output_type": "stream",
     "text": [
      "result_0.log: 0.61\n",
      "result_10.log: 0.55\n",
      "result_20.log: 0.50\n",
      "result_30.log: 0.50\n",
      "result_40.log: 0.54\n",
      "result_50.log: 0.68\n",
      "result_60.log: 0.48\n",
      "result_70.log: 0.42\n",
      "result_80.log: 0.39\n",
      "result_90.log: 0.34\n"
     ]
    },
    {
     "data": {
      "application/vnd.jupyter.widget-view+json": {
       "model_id": "43a6c053dda347929ed9cc3416746573",
       "version_major": 2,
       "version_minor": 0
      },
      "text/plain": [
       "results/sudoku_gac/INST_36x36:   0%|          | 0/10 [00:00<?, ?it/s]"
      ]
     },
     "metadata": {},
     "output_type": "display_data"
    },
    {
     "name": "stdout",
     "output_type": "stream",
     "text": [
      "result_0.log: 1.28\n",
      "result_10.log: 1.10\n",
      "result_20.log: 0.94\n",
      "result_30.log: 0.84\n",
      "result_40.log: 0.91\n",
      "result_50.log: 0.96\n",
      "result_60.log: 0.95\n",
      "result_70.log: 0.67\n",
      "result_80.log: 0.56\n",
      "result_90.log: 0.46\n"
     ]
    },
    {
     "data": {
      "application/vnd.jupyter.widget-view+json": {
       "model_id": "4ed68bd1eecb4111b783d66dd10722fe",
       "version_major": 2,
       "version_minor": 0
      },
      "text/plain": [
       "results/sudoku_gac/INST_49x49:   0%|          | 0/10 [00:00<?, ?it/s]"
      ]
     },
     "metadata": {},
     "output_type": "display_data"
    },
    {
     "name": "stdout",
     "output_type": "stream",
     "text": [
      "result_0.log: 2.71\n",
      "result_10.log: 2.27\n",
      "result_20.log: 1.83\n",
      "result_30.log: 1.57\n",
      "result_40.log: 1.57\n",
      "result_50.log: 1.64\n",
      "result_60.log: 3.00\n",
      "result_70.log: 1.15\n",
      "result_80.log: 0.89\n",
      "result_90.log: 0.72\n"
     ]
    },
    {
     "data": {
      "application/vnd.jupyter.widget-view+json": {
       "model_id": "d7860cf7facb4032941705dc024ca4b9",
       "version_major": 2,
       "version_minor": 0
      },
      "text/plain": [
       "results/sudoku_gac/INST_64x64:   0%|          | 0/10 [00:00<?, ?it/s]"
      ]
     },
     "metadata": {},
     "output_type": "display_data"
    },
    {
     "name": "stdout",
     "output_type": "stream",
     "text": [
      "result_0.log: 5.60\n",
      "result_10.log: 4.49\n",
      "result_20.log: 3.69\n",
      "result_30.log: 2.97\n",
      "result_40.log: 2.65\n",
      "result_50.log: 2.82\n",
      "result_60.log: 3.16\n",
      "result_70.log: 2.07\n",
      "result_80.log: 1.46\n",
      "result_90.log: 1.18\n"
     ]
    },
    {
     "data": {
      "application/vnd.jupyter.widget-view+json": {
       "model_id": "35e6fc14b18540b4a17e4e9ec722835c",
       "version_major": 2,
       "version_minor": 0
      },
      "text/plain": [
       "results/sudoku_gac/INST_81x81:   0%|          | 0/10 [00:00<?, ?it/s]"
      ]
     },
     "metadata": {},
     "output_type": "display_data"
    },
    {
     "name": "stdout",
     "output_type": "stream",
     "text": [
      "result_0.log: 10.82\n",
      "result_10.log: 8.82\n",
      "result_20.log: 6.96\n",
      "result_30.log: 5.46\n",
      "result_40.log: 4.52\n",
      "result_50.log: 4.67\n",
      "result_60.log: 4.71\n",
      "result_70.log: 3.83\n",
      "result_80.log: 2.53\n",
      "result_90.log: 2.00\n"
     ]
    }
   ],
   "source": [
    "rule1 = sudoku(solver='sudoku_gac')"
   ]
  }
 ],
 "metadata": {
  "kernelspec": {
   "display_name": "base",
   "language": "python",
   "name": "python3"
  },
  "language_info": {
   "codemirror_mode": {
    "name": "ipython",
    "version": 3
   },
   "file_extension": ".py",
   "mimetype": "text/x-python",
   "name": "python",
   "nbconvert_exporter": "python",
   "pygments_lexer": "ipython3",
   "version": "3.9.15"
  }
 },
 "nbformat": 4,
 "nbformat_minor": 2
}
