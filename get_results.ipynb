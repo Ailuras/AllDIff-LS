{
 "cells": [
  {
   "cell_type": "code",
   "execution_count": 3,
   "metadata": {},
   "outputs": [],
   "source": [
    "import pandas as pd\n",
    "import os\n",
    "from tqdm.notebook import tqdm\n",
    "# from z3 import *\n",
    "\n",
    "class sudoku:\n",
    "    \n",
    "    def __init__(self, init=False, solver='sudoku_rule1'):\n",
    "        self.solver = solver\n",
    "        self.data_path = 'results/' + solver\n",
    "        category_list = os.listdir(self.data_path)\n",
    "        for folder in category_list:\n",
    "            folder_path = os.path.join(self.data_path, folder)\n",
    "            file_list = os.listdir(folder_path)\n",
    "            for file in tqdm(file_list, desc=folder_path):\n",
    "                path = os.path.join(folder_path, file)\n",
    "                with open(path) as f:\n",
    "                    try:\n",
    "                        avg_time = 0\n",
    "                        if self.solver == 'sudoku_rule1234':\n",
    "                            while f.readline():\n",
    "                                info = f.readline()[:-1]\n",
    "                                time = info.split(': ')[-1]\n",
    "                                f.readline()\n",
    "                                avg_time += float(time)\n",
    "                        elif self.solver == 'sudoku_rule1':\n",
    "                            while f.readline():\n",
    "                                info = f.readline()[:-1]\n",
    "                                time = info.split(': ')[-1]\n",
    "                                f.readline()\n",
    "                                avg_time += float(time)\n",
    "                        elif self.solver == 'sudoku_rule234':                            \n",
    "                            while f.readline():\n",
    "                                info = f.readline()[:-1]\n",
    "                                time = info.split(': ')[-1]\n",
    "                                f.readline()\n",
    "                                avg_time += float(time)\n",
    "                        print(f\"{file}: {avg_time/100}\")\n",
    "                    except:\n",
    "                        print(path)\n",
    "    "
   ]
  },
  {
   "cell_type": "code",
   "execution_count": 4,
   "metadata": {},
   "outputs": [
    {
     "data": {
      "application/vnd.jupyter.widget-view+json": {
       "model_id": "5df227d0a58546e09aa72403ec09794c",
       "version_major": 2,
       "version_minor": 0
      },
      "text/plain": [
       "results/sudoku_rule1234/INST_49x49:   0%|          | 0/10 [00:00<?, ?it/s]"
      ]
     },
     "metadata": {},
     "output_type": "display_data"
    },
    {
     "name": "stdout",
     "output_type": "stream",
     "text": [
      "result_40.log: 0.12019999999999989\n",
      "result_90.log: 0.13719999999999982\n",
      "result_80.log: 0.13969999999999985\n",
      "result_30.log: 0.11619999999999985\n",
      "result_10.log: 0.0996999999999999\n",
      "result_50.log: 0.12819999999999995\n",
      "result_70.log: 0.1418999999999998\n",
      "result_60.log: 0.13409999999999986\n",
      "result_20.log: 0.10919999999999991\n",
      "result_0.log: 0.08760000000000001\n"
     ]
    },
    {
     "data": {
      "application/vnd.jupyter.widget-view+json": {
       "model_id": "5d7e67453655451eba41ce87e44735a1",
       "version_major": 2,
       "version_minor": 0
      },
      "text/plain": [
       "results/sudoku_rule1234/INST_36x36:   0%|          | 0/10 [00:00<?, ?it/s]"
      ]
     },
     "metadata": {},
     "output_type": "display_data"
    },
    {
     "name": "stdout",
     "output_type": "stream",
     "text": [
      "result_40.log: 0.041899999999999965\n",
      "result_90.log: 0.050299999999999956\n",
      "result_80.log: 0.05149999999999997\n",
      "result_30.log: 0.03979999999999997\n",
      "result_10.log: 0.03539999999999998\n",
      "result_50.log: 0.045399999999999975\n",
      "result_70.log: 0.050799999999999984\n",
      "result_60.log: 0.053799999999999966\n",
      "result_20.log: 0.03799999999999998\n",
      "result_0.log: 0.029699999999999976\n"
     ]
    },
    {
     "data": {
      "application/vnd.jupyter.widget-view+json": {
       "model_id": "d4286ee735864bb2b8bf4791e8e49e66",
       "version_major": 2,
       "version_minor": 0
      },
      "text/plain": [
       "results/sudoku_rule1234/INST_81x81:   0%|          | 0/10 [00:00<?, ?it/s]"
      ]
     },
     "metadata": {},
     "output_type": "display_data"
    },
    {
     "name": "stdout",
     "output_type": "stream",
     "text": [
      "result_40.log: 0.5765000000000005\n",
      "result_90.log: 0.6338999999999999\n",
      "result_80.log: 0.6341000000000002\n",
      "result_30.log: 0.5545\n",
      "result_10.log: 0.47480000000000017\n",
      "result_50.log: 0.5852\n",
      "result_70.log: 0.6592000000000006\n",
      "result_60.log: 0.6023999999999998\n",
      "result_20.log: 0.5221999999999996\n",
      "result_0.log: 0.40670000000000006\n"
     ]
    },
    {
     "data": {
      "application/vnd.jupyter.widget-view+json": {
       "model_id": "e9300d14a767429b835666956b98dcce",
       "version_major": 2,
       "version_minor": 0
      },
      "text/plain": [
       "results/sudoku_rule1234/INST_64x64:   0%|          | 0/10 [00:00<?, ?it/s]"
      ]
     },
     "metadata": {},
     "output_type": "display_data"
    },
    {
     "name": "stdout",
     "output_type": "stream",
     "text": [
      "result_40.log: 0.2744999999999997\n",
      "result_90.log: 0.3096000000000002\n",
      "result_80.log: 0.3089000000000001\n",
      "result_30.log: 0.26539999999999975\n",
      "result_10.log: 0.22840000000000021\n",
      "result_50.log: 0.2830000000000001\n",
      "result_70.log: 0.3160000000000002\n",
      "result_60.log: 0.29070000000000024\n",
      "result_20.log: 0.25089999999999985\n",
      "result_0.log: 0.19690000000000007\n"
     ]
    },
    {
     "data": {
      "application/vnd.jupyter.widget-view+json": {
       "model_id": "1a8c557b8ddd4153a2ed6d1b822591c8",
       "version_major": 2,
       "version_minor": 0
      },
      "text/plain": [
       "results/sudoku_rule1234/INST_16x16:   0%|          | 0/10 [00:00<?, ?it/s]"
      ]
     },
     "metadata": {},
     "output_type": "display_data"
    },
    {
     "name": "stdout",
     "output_type": "stream",
     "text": [
      "result_40.log: 0.0\n",
      "result_90.log: 0.0\n",
      "result_80.log: 0.0\n",
      "result_30.log: 0.0\n",
      "result_10.log: 0.0\n",
      "result_50.log: 0.0\n",
      "result_70.log: 0.0\n",
      "result_60.log: 0.0\n",
      "result_20.log: 0.0\n",
      "result_0.log: 0.0\n"
     ]
    },
    {
     "data": {
      "application/vnd.jupyter.widget-view+json": {
       "model_id": "4340794650c44d6cbfddfa4ab9656a13",
       "version_major": 2,
       "version_minor": 0
      },
      "text/plain": [
       "results/sudoku_rule1234/INST_25x25:   0%|          | 0/10 [00:00<?, ?it/s]"
      ]
     },
     "metadata": {},
     "output_type": "display_data"
    },
    {
     "name": "stdout",
     "output_type": "stream",
     "text": [
      "result_40.log: 0.005000000000000002\n",
      "result_90.log: 0.008300000000000005\n",
      "result_80.log: 0.007800000000000005\n",
      "result_30.log: 0.005000000000000002\n",
      "result_10.log: 0.0036000000000000016\n",
      "result_50.log: 0.007000000000000004\n",
      "result_70.log: 0.008400000000000005\n",
      "result_60.log: 0.009000000000000006\n",
      "result_20.log: 0.005100000000000002\n",
      "result_0.log: 0.0018000000000000002\n"
     ]
    }
   ],
   "source": [
    "rule1 = sudoku(solver='sudoku_rule1234')"
   ]
  }
 ],
 "metadata": {
  "kernelspec": {
   "display_name": "base",
   "language": "python",
   "name": "python3"
  },
  "language_info": {
   "codemirror_mode": {
    "name": "ipython",
    "version": 3
   },
   "file_extension": ".py",
   "mimetype": "text/x-python",
   "name": "python",
   "nbconvert_exporter": "python",
   "pygments_lexer": "ipython3",
   "version": "3.9.12"
  }
 },
 "nbformat": 4,
 "nbformat_minor": 2
}
