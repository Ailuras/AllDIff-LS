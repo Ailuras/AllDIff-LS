{
 "cells": [
  {
   "cell_type": "code",
   "execution_count": 5,
   "metadata": {},
   "outputs": [],
   "source": [
    "import matplotlib.pyplot as plt\n",
    "from tqdm.notebook import tqdm\n",
    "import os\n",
    "folder_map = {'INST_16x16':0, 'INST_25x25':1, 'INST_36x36':2, 'INST_49x49':3, 'INST_64x64':4, 'INST_81x81':5}\n",
    "file_map = {'40':0, '50':1, '60':2, '70':3, '80':4, '90':5}\n",
    "def get_data(result = 'rule1234'):\n",
    "    rule_var = [[0 for i in range(6)] for j in range(6)]\n",
    "    total_var = [[0 for i in range(6)] for j in range(6)]\n",
    "    path = f'results/sudoku_{result}'\n",
    "    for folder in tqdm(os.listdir(path)):\n",
    "        folder_path = os.path.join(path, folder)\n",
    "        for file in os.listdir(folder_path):\n",
    "            file_path = os.path.join(folder_path, file)\n",
    "            order = folder_map[folder]\n",
    "            prop = file_map.get(file.split('_')[-1].split('.')[0], -1)\n",
    "            if prop != -1:\n",
    "                with open(file_path) as f:\n",
    "                    while f.readline():\n",
    "                        info = f.readline().strip()\n",
    "                        var_num = int(info.split(': ')[-1])\n",
    "                        rule_var[prop][order] += var_num\n",
    "                        f.readline()\n",
    "                        \n",
    "    path = f'results/sudoku_rule0'\n",
    "    for folder in tqdm(os.listdir(path)):\n",
    "        folder_path = os.path.join(path, folder)\n",
    "        for file in os.listdir(folder_path):\n",
    "            file_path = os.path.join(folder_path, file)\n",
    "            order = folder_map[folder]\n",
    "            prop = file_map.get(file.split('_')[-1].split('.')[0], -1)\n",
    "            if prop != -1:\n",
    "                with open(file_path) as f:\n",
    "                    while f.readline():\n",
    "                        info = f.readline().strip()\n",
    "                        var_num = int(info.split(': ')[-1])\n",
    "                        total_var[prop][order] += var_num\n",
    "                        f.readline()\n",
    "    \n",
    "    for i in range(6):\n",
    "        line = ''\n",
    "        for j in range(6):\n",
    "            line += str('%.2f'%(rule_var[i][j]*100/total_var[i][j])) + ' '\n",
    "        print(line)\n",
    "        \n",
    "    avg_prop = [0 for i in range(6)]\n",
    "    for i in range(6):\n",
    "        prop = 0.0\n",
    "        for j in range(6):\n",
    "            prop += rule_var[i][j]/total_var[i][j]\n",
    "        avg_prop[i] = prop*100/6\n",
    "    \n",
    "    return avg_prop"
   ]
  },
  {
   "cell_type": "code",
   "execution_count": 6,
   "metadata": {},
   "outputs": [
    {
     "data": {
      "application/vnd.jupyter.widget-view+json": {
       "model_id": "d79830a9db7746178bcbf4a8970da725",
       "version_major": 2,
       "version_minor": 0
      },
      "text/plain": [
       "  0%|          | 0/6 [00:00<?, ?it/s]"
      ]
     },
     "metadata": {},
     "output_type": "display_data"
    },
    {
     "data": {
      "application/vnd.jupyter.widget-view+json": {
       "model_id": "b17412ac78a344d6a6fa084ad5156214",
       "version_major": 2,
       "version_minor": 0
      },
      "text/plain": [
       "  0%|          | 0/6 [00:00<?, ?it/s]"
      ]
     },
     "metadata": {},
     "output_type": "display_data"
    },
    {
     "name": "stdout",
     "output_type": "stream",
     "text": [
      "9.44 1.53 0.43 0.09 0.02 0.01 \n",
      "79.34 20.92 4.28 1.35 0.48 0.16 \n",
      "94.91 95.98 96.54 43.80 7.10 3.05 \n",
      "95.29 97.65 98.93 99.11 99.12 99.31 \n",
      "91.06 95.54 98.10 98.90 99.40 99.56 \n",
      "82.96 89.42 93.78 95.95 97.22 98.28 \n"
     ]
    },
    {
     "data": {
      "application/vnd.jupyter.widget-view+json": {
       "model_id": "af8e89823ced4507b51575d8b080c3cc",
       "version_major": 2,
       "version_minor": 0
      },
      "text/plain": [
       "  0%|          | 0/6 [00:00<?, ?it/s]"
      ]
     },
     "metadata": {},
     "output_type": "display_data"
    },
    {
     "data": {
      "application/vnd.jupyter.widget-view+json": {
       "model_id": "bd6e211c301b4544bec2c1c2eccd4d14",
       "version_major": 2,
       "version_minor": 0
      },
      "text/plain": [
       "  0%|          | 0/6 [00:00<?, ?it/s]"
      ]
     },
     "metadata": {},
     "output_type": "display_data"
    },
    {
     "name": "stdout",
     "output_type": "stream",
     "text": [
      "8.22 1.42 0.43 0.09 0.02 0.01 \n",
      "70.41 14.69 3.97 1.31 0.47 0.16 \n",
      "94.90 95.92 94.45 18.48 6.42 2.92 \n",
      "95.29 97.65 98.93 99.11 99.12 99.30 \n",
      "91.06 95.54 98.10 98.90 99.40 99.56 \n",
      "82.96 89.42 93.78 95.95 97.22 98.28 \n"
     ]
    },
    {
     "data": {
      "application/vnd.jupyter.widget-view+json": {
       "model_id": "1f6dd98d1b1b48c2a7f97a7279e580da",
       "version_major": 2,
       "version_minor": 0
      },
      "text/plain": [
       "  0%|          | 0/6 [00:00<?, ?it/s]"
      ]
     },
     "metadata": {},
     "output_type": "display_data"
    },
    {
     "data": {
      "application/vnd.jupyter.widget-view+json": {
       "model_id": "a8360916d43c4cb093de3f99b19031ce",
       "version_major": 2,
       "version_minor": 0
      },
      "text/plain": [
       "  0%|          | 0/6 [00:00<?, ?it/s]"
      ]
     },
     "metadata": {},
     "output_type": "display_data"
    },
    {
     "name": "stdout",
     "output_type": "stream",
     "text": [
      "1.18 0.09 0.00 0.00 0.00 0.00 \n",
      "27.20 2.25 0.21 0.04 0.00 0.00 \n",
      "93.95 83.16 10.63 1.63 0.41 0.10 \n",
      "95.28 97.64 98.93 99.10 99.09 15.45 \n",
      "91.06 95.54 98.09 98.90 99.40 99.56 \n",
      "82.96 89.42 93.78 95.95 97.22 98.28 \n"
     ]
    },
    {
     "data": {
      "image/png": "[encoded data removed]",
      "text/plain": [
       "<Figure size 500x500 with 1 Axes>"
      ]
     },
     "metadata": {},
     "output_type": "display_data"
    }
   ],
   "source": [
    "import matplotlib.pyplot as plt\n",
    "\n",
    "# 三组数据\n",
    "categories = ['40', '50', '60', '70', '80', '90']\n",
    "data_set1 = get_data('rule1234')\n",
    "data_set2 = get_data('rule234')\n",
    "data_set3 = get_data('rule1')\n",
    "\n",
    "# 设置柱状图的宽度\n",
    "bar_width = 0.2\n",
    "\n",
    "# 生成x坐标轴的位置\n",
    "x = range(len(categories))\n",
    "\n",
    "# 绘制柱状图\n",
    "plt.figure(figsize=(5, 5))\n",
    "plt.bar(x, data_set1, width=bar_width, label='Rule1+2')\n",
    "plt.bar([pos + bar_width for pos in x], data_set2, width=bar_width, label='Rule1')\n",
    "plt.bar([pos + 2 * bar_width for pos in x], data_set3, width=bar_width, label='Rule2')\n",
    "\n",
    "# 设置x坐标轴标签和标题\n",
    "plt.xlabel('Categories')\n",
    "plt.ylabel('Values')\n",
    "plt.title('Bar Chart with Three Data Sets')\n",
    "plt.xticks([pos + bar_width for pos in x], categories)\n",
    "plt.legend()\n",
    "\n",
    "# 显示图形\n",
    "plt.savefig('charts/'+ 'des' +'.pdf', bbox_inches='tight')"
   ]
  }
 ],
 "metadata": {
  "kernelspec": {
   "display_name": "base",
   "language": "python",
   "name": "python3"
  },
  "language_info": {
   "codemirror_mode": {
    "name": "ipython",
    "version": 3
   },
   "file_extension": ".py",
   "mimetype": "text/x-python",
   "name": "python",
   "nbconvert_exporter": "python",
   "pygments_lexer": "ipython3",
   "version": "3.9.15"
  },
  "orig_nbformat": 4
 },
 "nbformat": 4,
 "nbformat_minor": 2
}
